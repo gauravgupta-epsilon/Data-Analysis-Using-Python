{
 "cells": [
  {
   "cell_type": "markdown",
   "id": "63e3ebe3",
   "metadata": {},
   "source": [
    "Q.1) Consider the folloowing dataframe and do as directed:"
   ]
  },
  {
   "cell_type": "code",
   "execution_count": 4,
   "id": "804ae23b",
   "metadata": {},
   "outputs": [
    {
     "data": {
      "text/html": [
       "<div>\n",
       "<style scoped>\n",
       "    .dataframe tbody tr th:only-of-type {\n",
       "        vertical-align: middle;\n",
       "    }\n",
       "\n",
       "    .dataframe tbody tr th {\n",
       "        vertical-align: top;\n",
       "    }\n",
       "\n",
       "    .dataframe thead th {\n",
       "        text-align: right;\n",
       "    }\n",
       "</style>\n",
       "<table border=\"1\" class=\"dataframe\">\n",
       "  <thead>\n",
       "    <tr style=\"text-align: right;\">\n",
       "      <th></th>\n",
       "      <th>Mouse</th>\n",
       "      <th>Keyboard</th>\n",
       "      <th>Scanner</th>\n",
       "    </tr>\n",
       "  </thead>\n",
       "  <tbody>\n",
       "    <tr>\n",
       "      <th>Jan</th>\n",
       "      <td>150</td>\n",
       "      <td>180</td>\n",
       "      <td>200</td>\n",
       "    </tr>\n",
       "    <tr>\n",
       "      <th>Feb</th>\n",
       "      <td>200</td>\n",
       "      <td>200</td>\n",
       "      <td>280</td>\n",
       "    </tr>\n",
       "    <tr>\n",
       "      <th>March</th>\n",
       "      <td>300</td>\n",
       "      <td>190</td>\n",
       "      <td>330</td>\n",
       "    </tr>\n",
       "    <tr>\n",
       "      <th>April</th>\n",
       "      <td>400</td>\n",
       "      <td>300</td>\n",
       "      <td>450</td>\n",
       "    </tr>\n",
       "  </tbody>\n",
       "</table>\n",
       "</div>"
      ],
      "text/plain": [
       "       Mouse  Keyboard  Scanner\n",
       "Jan      150       180      200\n",
       "Feb      200       200      280\n",
       "March    300       190      330\n",
       "April    400       300      450"
      ]
     },
     "execution_count": 4,
     "metadata": {},
     "output_type": "execute_result"
    }
   ],
   "source": [
    "import pandas as pd\n",
    "\n",
    "d={\"Mouse\":[150,200,300,400],\n",
    "\n",
    "   \"Keyboard\":[180,200,190,300],\n",
    "\n",
    "   \"Scanner\":[200,280,330,450]}\n",
    "\n",
    "df=pd.DataFrame(d,index=[\"Jan\",\"Feb\",\"March\",\"April\"])\n",
    "df"
   ]
  },
  {
   "cell_type": "markdown",
   "id": "c61597be",
   "metadata": {},
   "source": [
    "A. Write code to access data of Mouse and Scanner columns.\n",
    "\n",
    "B. Write code to access data of the Keyboard column using dot notation and column name.\n",
    "\n",
    "C. Write code to access data of scanners using loc[].\n",
    "\n",
    "D. Write code to access data of all columns where mouse data is more than 200.\n",
    "\n",
    "E. Write code to access columns using 0 and 2.\n",
    "\n",
    "F. Write code to access data of rows of jan and march for scanner and keyboard."
   ]
  },
  {
   "cell_type": "markdown",
   "id": "8483d0d0",
   "metadata": {},
   "source": [
    "Q.2) Consider the above dataframe and predict the output of the following:\n",
    "\n",
    "a)      print(df.iloc[1][2])\n",
    "\n",
    "b)      print(df.loc[‘Feb’,’Scanner’])\n",
    "\n",
    "c)       df1=df[df[‘Keyboard’]>190] \n",
    "         print(df1[[‘Mouse’,’Scanner’]])\n",
    "    \n",
    "d)      print(df.iloc[2,1])"
   ]
  }
 ],
 "metadata": {
  "kernelspec": {
   "display_name": "Python 3",
   "language": "python",
   "name": "python3"
  },
  "language_info": {
   "codemirror_mode": {
    "name": "ipython",
    "version": 3
   },
   "file_extension": ".py",
   "mimetype": "text/x-python",
   "name": "python",
   "nbconvert_exporter": "python",
   "pygments_lexer": "ipython3",
   "version": "3.8.8"
  }
 },
 "nbformat": 4,
 "nbformat_minor": 5
}
