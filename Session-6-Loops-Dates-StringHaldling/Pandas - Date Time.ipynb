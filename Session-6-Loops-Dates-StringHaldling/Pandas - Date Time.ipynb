{
 "cells": [
  {
   "cell_type": "markdown",
   "id": "34a7b712",
   "metadata": {},
   "source": [
    "### 1. Getting current Datetime in Python."
   ]
  },
  {
   "cell_type": "code",
   "execution_count": 4,
   "id": "298e81cc",
   "metadata": {},
   "outputs": [
    {
     "name": "stdout",
     "output_type": "stream",
     "text": [
      "2023-04-20 15:05:25.886835\n",
      "<class 'datetime.datetime'>\n"
     ]
    }
   ],
   "source": [
    "from datetime import datetime\n",
    "\n",
    "now = datetime.now()\n",
    "print(now)\n",
    "# get current date and time\n",
    "# now = datetime.now()\n",
    "# print(now)\n",
    "\n",
    "# print class\n",
    "print(type(now))"
   ]
  },
  {
   "cell_type": "code",
   "execution_count": 29,
   "id": "c675776b",
   "metadata": {},
   "outputs": [
    {
     "data": {
      "text/plain": [
       "datetime.datetime(2023, 4, 19, 23, 27, 40, 437024)"
      ]
     },
     "execution_count": 29,
     "metadata": {},
     "output_type": "execute_result"
    }
   ],
   "source": [
    "now"
   ]
  },
  {
   "cell_type": "code",
   "execution_count": 11,
   "id": "cfd7d941",
   "metadata": {},
   "outputs": [
    {
     "name": "stdout",
     "output_type": "stream",
     "text": [
      "2023-04-20\n"
     ]
    }
   ],
   "source": [
    "### Convert it into date.\n",
    "now_date = now.date()\n",
    "# print(now.date())\n",
    "\n",
    "print(now_date)"
   ]
  },
  {
   "cell_type": "code",
   "execution_count": 9,
   "id": "4124d1ca",
   "metadata": {},
   "outputs": [
    {
     "name": "stdout",
     "output_type": "stream",
     "text": [
      "Year : 2023\n"
     ]
    }
   ],
   "source": [
    "print(\"Year :\",now.year)"
   ]
  },
  {
   "cell_type": "markdown",
   "id": "e4b120ee",
   "metadata": {},
   "source": [
    "### 2. Create user define date"
   ]
  },
  {
   "cell_type": "code",
   "execution_count": 12,
   "id": "09a83c86",
   "metadata": {},
   "outputs": [
    {
     "name": "stdout",
     "output_type": "stream",
     "text": [
      "Date is : 2021-02-10\n"
     ]
    }
   ],
   "source": [
    "from datetime import date\n",
    "\n",
    "User_date = date(2021, 2, 10)\n",
    "print(\"Date is :\", User_date)\n",
    "\n",
    "date()"
   ]
  },
  {
   "cell_type": "code",
   "execution_count": 15,
   "id": "89aa0af9",
   "metadata": {},
   "outputs": [
    {
     "name": "stdout",
     "output_type": "stream",
     "text": [
      "2023-04-20\n",
      "2021-02-10\n"
     ]
    }
   ],
   "source": [
    "print(now_date)\n",
    "print(User_date)"
   ]
  },
  {
   "cell_type": "code",
   "execution_count": 18,
   "id": "caeba9ea",
   "metadata": {},
   "outputs": [
    {
     "data": {
      "text/plain": [
       "2"
      ]
     },
     "execution_count": 18,
     "metadata": {},
     "output_type": "execute_result"
    }
   ],
   "source": [
    "User_date."
   ]
  },
  {
   "cell_type": "markdown",
   "id": "f3067679",
   "metadata": {},
   "source": [
    "### 3. Extract Attribute from a date."
   ]
  },
  {
   "cell_type": "code",
   "execution_count": 19,
   "id": "c3ef189f",
   "metadata": {},
   "outputs": [
    {
     "name": "stdout",
     "output_type": "stream",
     "text": [
      "Year: 2021\n",
      "Month: 2\n",
      "Day: 10\n"
     ]
    }
   ],
   "source": [
    "# extract attributes\n",
    "print(\"Year:\", User_date.year)\n",
    "print(\"Month:\", User_date.month)\n",
    "print(\"Day:\", User_date.day)"
   ]
  },
  {
   "cell_type": "code",
   "execution_count": 20,
   "id": "87c174d7",
   "metadata": {},
   "outputs": [
    {
     "name": "stdout",
     "output_type": "stream",
     "text": [
      "Hour: 15\n",
      "seconds: 25\n",
      "Day: 5\n"
     ]
    }
   ],
   "source": [
    "# extract attributes\n",
    "print(\"Hour:\", now.hour)\n",
    "print(\"seconds:\", now.second)\n",
    "print(\"Day:\", now.minute)"
   ]
  },
  {
   "cell_type": "markdown",
   "id": "05d031e6",
   "metadata": {},
   "source": [
    "### 4. Find the difference in no of days in two dates."
   ]
  },
  {
   "cell_type": "code",
   "execution_count": 37,
   "id": "cddd44fe",
   "metadata": {},
   "outputs": [
    {
     "data": {
      "text/plain": [
       "datetime.timedelta(days=799)"
      ]
     },
     "execution_count": 37,
     "metadata": {},
     "output_type": "execute_result"
    }
   ],
   "source": [
    "x = now_date - User_date\n",
    "# print(time_delta)\n",
    "# type(time_delta)\n",
    "x"
   ]
  },
  {
   "cell_type": "code",
   "execution_count": 30,
   "id": "0cb59d76",
   "metadata": {},
   "outputs": [
    {
     "data": {
      "text/plain": [
       "datetime.date(2023, 4, 20)"
      ]
     },
     "execution_count": 30,
     "metadata": {},
     "output_type": "execute_result"
    }
   ],
   "source": [
    "now_date"
   ]
  },
  {
   "cell_type": "code",
   "execution_count": 33,
   "id": "38d0d2af",
   "metadata": {},
   "outputs": [],
   "source": [
    "from datetime import timedelta"
   ]
  },
  {
   "cell_type": "code",
   "execution_count": 39,
   "id": "5737507f",
   "metadata": {},
   "outputs": [
    {
     "data": {
      "text/plain": [
       "datetime.date(2025, 6, 27)"
      ]
     },
     "execution_count": 39,
     "metadata": {},
     "output_type": "execute_result"
    }
   ],
   "source": [
    "now_date + x"
   ]
  },
  {
   "cell_type": "code",
   "execution_count": 34,
   "id": "23077244",
   "metadata": {},
   "outputs": [
    {
     "name": "stdout",
     "output_type": "stream",
     "text": [
      "2023-04-27\n"
     ]
    }
   ],
   "source": [
    "print(now_date + )"
   ]
  },
  {
   "cell_type": "markdown",
   "id": "1d7a2bf7",
   "metadata": {},
   "source": [
    "### 5. Find the difference in no of months in two dates."
   ]
  },
  {
   "cell_type": "code",
   "execution_count": 9,
   "id": "f8064b7e",
   "metadata": {},
   "outputs": [
    {
     "data": {
      "text/plain": [
       "26"
      ]
     },
     "execution_count": 9,
     "metadata": {},
     "output_type": "execute_result"
    }
   ],
   "source": [
    "Total_Months = (now_date.year - User_date.year)*12 + (now_date.month - User_date.month)\n",
    "Total_Months"
   ]
  },
  {
   "cell_type": "markdown",
   "id": "12a70ec2",
   "metadata": {},
   "source": [
    "### 6. Add number 4 weeks to the exisitng date."
   ]
  },
  {
   "cell_type": "code",
   "execution_count": 38,
   "id": "ebcbb211",
   "metadata": {},
   "outputs": [
    {
     "name": "stdout",
     "output_type": "stream",
     "text": [
      "Future Date After 4 weeks: 2023-05-18\n"
     ]
    }
   ],
   "source": [
    "from datetime import timedelta\n",
    "\n",
    "# add 4 weeks in given date\n",
    "new_date = now_date + timedelta(weeks=4)\n",
    "print('Future Date After 4 weeks:', new_date)\n",
    "\n",
    "# add 4 months in given date\n",
    "new_date = now_date + timedelta()"
   ]
  },
  {
   "cell_type": "markdown",
   "id": "ec601add",
   "metadata": {},
   "source": [
    "### 7. Subtract 3 month from the exisitng date."
   ]
  },
  {
   "cell_type": "code",
   "execution_count": 40,
   "id": "b2a7cff7",
   "metadata": {},
   "outputs": [
    {
     "name": "stdout",
     "output_type": "stream",
     "text": [
      "past Date: 2023-01-20\n"
     ]
    }
   ],
   "source": [
    "from dateutil.relativedelta import relativedelta\n",
    "# Subtract 3 monts from the eisting date.\n",
    "new_date = now_date - relativedelta(months=3)\n",
    "print('past Date:', new_date)"
   ]
  },
  {
   "cell_type": "markdown",
   "id": "e9e68102",
   "metadata": {},
   "source": [
    "### 8. Convert String to datetime object."
   ]
  },
  {
   "cell_type": "code",
   "execution_count": 41,
   "id": "69d5e631",
   "metadata": {},
   "outputs": [
    {
     "name": "stdout",
     "output_type": "stream",
     "text": [
      "2021-06-12 09:15:32\n"
     ]
    }
   ],
   "source": [
    "from datetime import datetime\n",
    "\n",
    "# Date String in dd/mm/yyyy HH:MM:SS format.\n",
    "dt_string = \"12/06/2021 09:15:32\"\n",
    "\n",
    "# Convert string to datetime object.\n",
    "dt_object = datetime.strptime(dt_string, \"%d/%m/%Y %H:%M:%S\")\n",
    "print(dt_object)"
   ]
  },
  {
   "cell_type": "code",
   "execution_count": 42,
   "id": "38414162",
   "metadata": {},
   "outputs": [
    {
     "data": {
      "text/plain": [
       "str"
      ]
     },
     "execution_count": 42,
     "metadata": {},
     "output_type": "execute_result"
    }
   ],
   "source": [
    "type(dt_string)"
   ]
  },
  {
   "cell_type": "code",
   "execution_count": 43,
   "id": "0ff801fe",
   "metadata": {},
   "outputs": [
    {
     "data": {
      "text/plain": [
       "datetime.datetime"
      ]
     },
     "execution_count": 43,
     "metadata": {},
     "output_type": "execute_result"
    }
   ],
   "source": [
    "type(dt_object)"
   ]
  },
  {
   "cell_type": "code",
   "execution_count": 18,
   "id": "a05f656f",
   "metadata": {},
   "outputs": [
    {
     "data": {
      "text/plain": [
       "datetime.timedelta(days=122)"
      ]
     },
     "execution_count": 18,
     "metadata": {},
     "output_type": "execute_result"
    }
   ],
   "source": [
    "Time_delta_1 = dt_object.date() - User_date\n",
    "Time_delta_1"
   ]
  },
  {
   "cell_type": "code",
   "execution_count": 21,
   "id": "52117a4c",
   "metadata": {},
   "outputs": [
    {
     "data": {
      "text/plain": [
       "datetime.date(2021, 6, 12)"
      ]
     },
     "execution_count": 21,
     "metadata": {},
     "output_type": "execute_result"
    }
   ],
   "source": [
    "dt_object.date()"
   ]
  },
  {
   "cell_type": "code",
   "execution_count": 22,
   "id": "df413c8c",
   "metadata": {},
   "outputs": [
    {
     "data": {
      "text/plain": [
       "datetime.date(2021, 10, 12)"
      ]
     },
     "execution_count": 22,
     "metadata": {},
     "output_type": "execute_result"
    }
   ],
   "source": [
    "dt_object.date() + Time_delta_1"
   ]
  },
  {
   "cell_type": "code",
   "execution_count": null,
   "id": "45067e3e",
   "metadata": {},
   "outputs": [],
   "source": []
  },
  {
   "cell_type": "code",
   "execution_count": null,
   "id": "7764b292",
   "metadata": {},
   "outputs": [],
   "source": []
  },
  {
   "cell_type": "markdown",
   "id": "3bec87cf",
   "metadata": {},
   "source": [
    "### Pandas - Date Time - Read data and import libraries."
   ]
  },
  {
   "cell_type": "code",
   "execution_count": 44,
   "id": "138a52f0",
   "metadata": {},
   "outputs": [
    {
     "data": {
      "text/html": [
       "<div>\n",
       "<style scoped>\n",
       "    .dataframe tbody tr th:only-of-type {\n",
       "        vertical-align: middle;\n",
       "    }\n",
       "\n",
       "    .dataframe tbody tr th {\n",
       "        vertical-align: top;\n",
       "    }\n",
       "\n",
       "    .dataframe thead th {\n",
       "        text-align: right;\n",
       "    }\n",
       "</style>\n",
       "<table border=\"1\" class=\"dataframe\">\n",
       "  <thead>\n",
       "    <tr style=\"text-align: right;\">\n",
       "      <th></th>\n",
       "      <th>City</th>\n",
       "      <th>Colors Reported</th>\n",
       "      <th>Shape Reported</th>\n",
       "      <th>State</th>\n",
       "      <th>Time</th>\n",
       "    </tr>\n",
       "  </thead>\n",
       "  <tbody>\n",
       "    <tr>\n",
       "      <th>0</th>\n",
       "      <td>Ithaca</td>\n",
       "      <td>NaN</td>\n",
       "      <td>TRIANGLE</td>\n",
       "      <td>NY</td>\n",
       "      <td>6/1/1930 22:00</td>\n",
       "    </tr>\n",
       "    <tr>\n",
       "      <th>1</th>\n",
       "      <td>Willingboro</td>\n",
       "      <td>NaN</td>\n",
       "      <td>OTHER</td>\n",
       "      <td>NJ</td>\n",
       "      <td>6/30/1930 20:00</td>\n",
       "    </tr>\n",
       "    <tr>\n",
       "      <th>2</th>\n",
       "      <td>Holyoke</td>\n",
       "      <td>NaN</td>\n",
       "      <td>OVAL</td>\n",
       "      <td>CO</td>\n",
       "      <td>2/15/1931 14:00</td>\n",
       "    </tr>\n",
       "    <tr>\n",
       "      <th>3</th>\n",
       "      <td>Abilene</td>\n",
       "      <td>NaN</td>\n",
       "      <td>DISK</td>\n",
       "      <td>KS</td>\n",
       "      <td>6/1/1931 13:00</td>\n",
       "    </tr>\n",
       "    <tr>\n",
       "      <th>4</th>\n",
       "      <td>New York Worlds Fair</td>\n",
       "      <td>NaN</td>\n",
       "      <td>LIGHT</td>\n",
       "      <td>NY</td>\n",
       "      <td>4/18/1933 19:00</td>\n",
       "    </tr>\n",
       "  </tbody>\n",
       "</table>\n",
       "</div>"
      ],
      "text/plain": [
       "                   City Colors Reported Shape Reported State             Time\n",
       "0                Ithaca             NaN       TRIANGLE    NY   6/1/1930 22:00\n",
       "1           Willingboro             NaN          OTHER    NJ  6/30/1930 20:00\n",
       "2               Holyoke             NaN           OVAL    CO  2/15/1931 14:00\n",
       "3               Abilene             NaN           DISK    KS   6/1/1931 13:00\n",
       "4  New York Worlds Fair             NaN          LIGHT    NY  4/18/1933 19:00"
      ]
     },
     "execution_count": 44,
     "metadata": {},
     "output_type": "execute_result"
    }
   ],
   "source": [
    "import pandas as pd\n",
    "url = 'http://bit.ly/uforeports'\n",
    "\n",
    "# read csv file\n",
    "df = pd.read_csv(url)\n",
    "df.head()"
   ]
  },
  {
   "cell_type": "code",
   "execution_count": 45,
   "id": "e2f73fa6",
   "metadata": {},
   "outputs": [
    {
     "name": "stdout",
     "output_type": "stream",
     "text": [
      "<class 'pandas.core.frame.DataFrame'>\n",
      "RangeIndex: 18241 entries, 0 to 18240\n",
      "Data columns (total 5 columns):\n",
      " #   Column           Non-Null Count  Dtype \n",
      "---  ------           --------------  ----- \n",
      " 0   City             18216 non-null  object\n",
      " 1   Colors Reported  2882 non-null   object\n",
      " 2   Shape Reported   15597 non-null  object\n",
      " 3   State            18241 non-null  object\n",
      " 4   Time             18241 non-null  object\n",
      "dtypes: object(5)\n",
      "memory usage: 712.7+ KB\n"
     ]
    }
   ],
   "source": [
    "df.info()"
   ]
  },
  {
   "cell_type": "markdown",
   "id": "cd7064b8",
   "metadata": {},
   "source": [
    "### Convert String to datetime."
   ]
  },
  {
   "cell_type": "code",
   "execution_count": 46,
   "id": "4e349738",
   "metadata": {},
   "outputs": [],
   "source": [
    "df['Time_date'] =  pd.to_datetime(df['Time'])"
   ]
  },
  {
   "cell_type": "code",
   "execution_count": 47,
   "id": "866139a1",
   "metadata": {},
   "outputs": [
    {
     "name": "stdout",
     "output_type": "stream",
     "text": [
      "<class 'pandas.core.frame.DataFrame'>\n",
      "RangeIndex: 18241 entries, 0 to 18240\n",
      "Data columns (total 6 columns):\n",
      " #   Column           Non-Null Count  Dtype         \n",
      "---  ------           --------------  -----         \n",
      " 0   City             18216 non-null  object        \n",
      " 1   Colors Reported  2882 non-null   object        \n",
      " 2   Shape Reported   15597 non-null  object        \n",
      " 3   State            18241 non-null  object        \n",
      " 4   Time             18241 non-null  object        \n",
      " 5   Time_date        18241 non-null  datetime64[ns]\n",
      "dtypes: datetime64[ns](1), object(5)\n",
      "memory usage: 855.2+ KB\n"
     ]
    }
   ],
   "source": [
    "df.info()"
   ]
  },
  {
   "cell_type": "code",
   "execution_count": 104,
   "id": "b415ff92",
   "metadata": {},
   "outputs": [
    {
     "data": {
      "text/html": [
       "<div>\n",
       "<style scoped>\n",
       "    .dataframe tbody tr th:only-of-type {\n",
       "        vertical-align: middle;\n",
       "    }\n",
       "\n",
       "    .dataframe tbody tr th {\n",
       "        vertical-align: top;\n",
       "    }\n",
       "\n",
       "    .dataframe thead th {\n",
       "        text-align: right;\n",
       "    }\n",
       "</style>\n",
       "<table border=\"1\" class=\"dataframe\">\n",
       "  <thead>\n",
       "    <tr style=\"text-align: right;\">\n",
       "      <th></th>\n",
       "      <th>City</th>\n",
       "      <th>Colors Reported</th>\n",
       "      <th>Shape Reported</th>\n",
       "      <th>State</th>\n",
       "      <th>Time</th>\n",
       "      <th>Time_date</th>\n",
       "    </tr>\n",
       "  </thead>\n",
       "  <tbody>\n",
       "    <tr>\n",
       "      <th>0</th>\n",
       "      <td>Ithaca</td>\n",
       "      <td>NaN</td>\n",
       "      <td>TRIANGLE</td>\n",
       "      <td>NY</td>\n",
       "      <td>6/1/1930 22:00</td>\n",
       "      <td>1930-06-01 22:00:00</td>\n",
       "    </tr>\n",
       "    <tr>\n",
       "      <th>1</th>\n",
       "      <td>Willingboro</td>\n",
       "      <td>NaN</td>\n",
       "      <td>OTHER</td>\n",
       "      <td>NJ</td>\n",
       "      <td>6/30/1930 20:00</td>\n",
       "      <td>1930-06-30 20:00:00</td>\n",
       "    </tr>\n",
       "    <tr>\n",
       "      <th>2</th>\n",
       "      <td>Holyoke</td>\n",
       "      <td>NaN</td>\n",
       "      <td>OVAL</td>\n",
       "      <td>CO</td>\n",
       "      <td>2/15/1931 14:00</td>\n",
       "      <td>1931-02-15 14:00:00</td>\n",
       "    </tr>\n",
       "    <tr>\n",
       "      <th>3</th>\n",
       "      <td>Abilene</td>\n",
       "      <td>NaN</td>\n",
       "      <td>DISK</td>\n",
       "      <td>KS</td>\n",
       "      <td>6/1/1931 13:00</td>\n",
       "      <td>1931-06-01 13:00:00</td>\n",
       "    </tr>\n",
       "    <tr>\n",
       "      <th>4</th>\n",
       "      <td>New York Worlds Fair</td>\n",
       "      <td>NaN</td>\n",
       "      <td>LIGHT</td>\n",
       "      <td>NY</td>\n",
       "      <td>4/18/1933 19:00</td>\n",
       "      <td>1933-04-18 19:00:00</td>\n",
       "    </tr>\n",
       "  </tbody>\n",
       "</table>\n",
       "</div>"
      ],
      "text/plain": [
       "                   City Colors Reported Shape Reported State             Time  \\\n",
       "0                Ithaca             NaN       TRIANGLE    NY   6/1/1930 22:00   \n",
       "1           Willingboro             NaN          OTHER    NJ  6/30/1930 20:00   \n",
       "2               Holyoke             NaN           OVAL    CO  2/15/1931 14:00   \n",
       "3               Abilene             NaN           DISK    KS   6/1/1931 13:00   \n",
       "4  New York Worlds Fair             NaN          LIGHT    NY  4/18/1933 19:00   \n",
       "\n",
       "            Time_date  \n",
       "0 1930-06-01 22:00:00  \n",
       "1 1930-06-30 20:00:00  \n",
       "2 1931-02-15 14:00:00  \n",
       "3 1931-06-01 13:00:00  \n",
       "4 1933-04-18 19:00:00  "
      ]
     },
     "execution_count": 104,
     "metadata": {},
     "output_type": "execute_result"
    }
   ],
   "source": [
    "df.head()"
   ]
  },
  {
   "cell_type": "code",
   "execution_count": 48,
   "id": "a322b0e6",
   "metadata": {},
   "outputs": [],
   "source": [
    "df['date'] = df.Time_date.dt.date"
   ]
  },
  {
   "cell_type": "code",
   "execution_count": 49,
   "id": "21dffbb5",
   "metadata": {},
   "outputs": [],
   "source": [
    "# df['date'] = df.Time_date.dt.date"
   ]
  },
  {
   "cell_type": "code",
   "execution_count": 50,
   "id": "7e93a309",
   "metadata": {},
   "outputs": [
    {
     "data": {
      "text/html": [
       "<div>\n",
       "<style scoped>\n",
       "    .dataframe tbody tr th:only-of-type {\n",
       "        vertical-align: middle;\n",
       "    }\n",
       "\n",
       "    .dataframe tbody tr th {\n",
       "        vertical-align: top;\n",
       "    }\n",
       "\n",
       "    .dataframe thead th {\n",
       "        text-align: right;\n",
       "    }\n",
       "</style>\n",
       "<table border=\"1\" class=\"dataframe\">\n",
       "  <thead>\n",
       "    <tr style=\"text-align: right;\">\n",
       "      <th></th>\n",
       "      <th>City</th>\n",
       "      <th>Colors Reported</th>\n",
       "      <th>Shape Reported</th>\n",
       "      <th>State</th>\n",
       "      <th>Time</th>\n",
       "      <th>Time_date</th>\n",
       "      <th>date</th>\n",
       "    </tr>\n",
       "  </thead>\n",
       "  <tbody>\n",
       "    <tr>\n",
       "      <th>0</th>\n",
       "      <td>Ithaca</td>\n",
       "      <td>NaN</td>\n",
       "      <td>TRIANGLE</td>\n",
       "      <td>NY</td>\n",
       "      <td>6/1/1930 22:00</td>\n",
       "      <td>1930-06-01 22:00:00</td>\n",
       "      <td>1930-06-01</td>\n",
       "    </tr>\n",
       "    <tr>\n",
       "      <th>1</th>\n",
       "      <td>Willingboro</td>\n",
       "      <td>NaN</td>\n",
       "      <td>OTHER</td>\n",
       "      <td>NJ</td>\n",
       "      <td>6/30/1930 20:00</td>\n",
       "      <td>1930-06-30 20:00:00</td>\n",
       "      <td>1930-06-30</td>\n",
       "    </tr>\n",
       "    <tr>\n",
       "      <th>2</th>\n",
       "      <td>Holyoke</td>\n",
       "      <td>NaN</td>\n",
       "      <td>OVAL</td>\n",
       "      <td>CO</td>\n",
       "      <td>2/15/1931 14:00</td>\n",
       "      <td>1931-02-15 14:00:00</td>\n",
       "      <td>1931-02-15</td>\n",
       "    </tr>\n",
       "    <tr>\n",
       "      <th>3</th>\n",
       "      <td>Abilene</td>\n",
       "      <td>NaN</td>\n",
       "      <td>DISK</td>\n",
       "      <td>KS</td>\n",
       "      <td>6/1/1931 13:00</td>\n",
       "      <td>1931-06-01 13:00:00</td>\n",
       "      <td>1931-06-01</td>\n",
       "    </tr>\n",
       "    <tr>\n",
       "      <th>4</th>\n",
       "      <td>New York Worlds Fair</td>\n",
       "      <td>NaN</td>\n",
       "      <td>LIGHT</td>\n",
       "      <td>NY</td>\n",
       "      <td>4/18/1933 19:00</td>\n",
       "      <td>1933-04-18 19:00:00</td>\n",
       "      <td>1933-04-18</td>\n",
       "    </tr>\n",
       "  </tbody>\n",
       "</table>\n",
       "</div>"
      ],
      "text/plain": [
       "                   City Colors Reported Shape Reported State             Time  \\\n",
       "0                Ithaca             NaN       TRIANGLE    NY   6/1/1930 22:00   \n",
       "1           Willingboro             NaN          OTHER    NJ  6/30/1930 20:00   \n",
       "2               Holyoke             NaN           OVAL    CO  2/15/1931 14:00   \n",
       "3               Abilene             NaN           DISK    KS   6/1/1931 13:00   \n",
       "4  New York Worlds Fair             NaN          LIGHT    NY  4/18/1933 19:00   \n",
       "\n",
       "            Time_date        date  \n",
       "0 1930-06-01 22:00:00  1930-06-01  \n",
       "1 1930-06-30 20:00:00  1930-06-30  \n",
       "2 1931-02-15 14:00:00  1931-02-15  \n",
       "3 1931-06-01 13:00:00  1931-06-01  \n",
       "4 1933-04-18 19:00:00  1933-04-18  "
      ]
     },
     "execution_count": 50,
     "metadata": {},
     "output_type": "execute_result"
    }
   ],
   "source": [
    "df.head()"
   ]
  },
  {
   "cell_type": "code",
   "execution_count": 52,
   "id": "e7f66d07",
   "metadata": {},
   "outputs": [
    {
     "data": {
      "text/plain": [
       "0       1930-06-01 22:00:00\n",
       "1       1930-06-30 20:00:00\n",
       "2       1931-02-15 14:00:00\n",
       "3       1931-06-01 13:00:00\n",
       "4       1933-04-18 19:00:00\n",
       "                ...        \n",
       "18236   2000-12-31 23:00:00\n",
       "18237   2000-12-31 23:00:00\n",
       "18238   2000-12-31 23:45:00\n",
       "18239   2000-12-31 23:45:00\n",
       "18240   2000-12-31 23:59:00\n",
       "Name: Time_date, Length: 18241, dtype: datetime64[ns]"
      ]
     },
     "execution_count": 52,
     "metadata": {},
     "output_type": "execute_result"
    }
   ],
   "source": [
    "df.Time_date"
   ]
  },
  {
   "cell_type": "code",
   "execution_count": 53,
   "id": "1d4248da",
   "metadata": {},
   "outputs": [
    {
     "name": "stdout",
     "output_type": "stream",
     "text": [
      "Type: <class 'str'>\n",
      "Value: 6/30/1930 20:00\n"
     ]
    }
   ],
   "source": [
    "type(df.Time[0])\n",
    "df.Time[0]\n",
    "\n",
    "print(\"Type:\", type(df.Time[1]))\n",
    "print(\"Value:\",df.Time[1])"
   ]
  },
  {
   "cell_type": "code",
   "execution_count": 116,
   "id": "ecc0252b",
   "metadata": {},
   "outputs": [
    {
     "name": "stdout",
     "output_type": "stream",
     "text": [
      "Type: <class 'pandas._libs.tslibs.timestamps.Timestamp'>\n",
      "Type Value: 1930-06-30 20:00:00\n"
     ]
    }
   ],
   "source": [
    "print(\"Type:\", type(df.Time_date[1]))\n",
    "print(\"Type\" , \"Value:\",df.Time_date[1])"
   ]
  },
  {
   "cell_type": "code",
   "execution_count": 123,
   "id": "b0f100df",
   "metadata": {},
   "outputs": [
    {
     "name": "stdout",
     "output_type": "stream",
     "text": [
      "Type: <class 'datetime.date'>\n",
      "Type Value: 1930-06-30\n"
     ]
    }
   ],
   "source": [
    "print(\"Type:\", type(df.date[1]))\n",
    "print(\"Type\" , \"Value:\",df.date[1])"
   ]
  },
  {
   "cell_type": "markdown",
   "id": "373eee6f",
   "metadata": {},
   "source": [
    "### Find day & year difference from current date"
   ]
  },
  {
   "cell_type": "code",
   "execution_count": 132,
   "id": "68b36527",
   "metadata": {},
   "outputs": [],
   "source": [
    "df['now'] = datetime.now().date()"
   ]
  },
  {
   "cell_type": "code",
   "execution_count": 133,
   "id": "837f2f44",
   "metadata": {},
   "outputs": [],
   "source": [
    "df['day_diff'] = now - df.date"
   ]
  },
  {
   "cell_type": "code",
   "execution_count": null,
   "id": "1e7689e3",
   "metadata": {},
   "outputs": [],
   "source": [
    "df['day_diff'] = now - df.date"
   ]
  },
  {
   "cell_type": "code",
   "execution_count": 54,
   "id": "3405b0e7",
   "metadata": {},
   "outputs": [
    {
     "data": {
      "text/html": [
       "<div>\n",
       "<style scoped>\n",
       "    .dataframe tbody tr th:only-of-type {\n",
       "        vertical-align: middle;\n",
       "    }\n",
       "\n",
       "    .dataframe tbody tr th {\n",
       "        vertical-align: top;\n",
       "    }\n",
       "\n",
       "    .dataframe thead th {\n",
       "        text-align: right;\n",
       "    }\n",
       "</style>\n",
       "<table border=\"1\" class=\"dataframe\">\n",
       "  <thead>\n",
       "    <tr style=\"text-align: right;\">\n",
       "      <th></th>\n",
       "      <th>City</th>\n",
       "      <th>Colors Reported</th>\n",
       "      <th>Shape Reported</th>\n",
       "      <th>State</th>\n",
       "      <th>Time</th>\n",
       "      <th>Time_date</th>\n",
       "      <th>date</th>\n",
       "    </tr>\n",
       "  </thead>\n",
       "  <tbody>\n",
       "    <tr>\n",
       "      <th>0</th>\n",
       "      <td>Ithaca</td>\n",
       "      <td>NaN</td>\n",
       "      <td>TRIANGLE</td>\n",
       "      <td>NY</td>\n",
       "      <td>6/1/1930 22:00</td>\n",
       "      <td>1930-06-01 22:00:00</td>\n",
       "      <td>1930-06-01</td>\n",
       "    </tr>\n",
       "    <tr>\n",
       "      <th>1</th>\n",
       "      <td>Willingboro</td>\n",
       "      <td>NaN</td>\n",
       "      <td>OTHER</td>\n",
       "      <td>NJ</td>\n",
       "      <td>6/30/1930 20:00</td>\n",
       "      <td>1930-06-30 20:00:00</td>\n",
       "      <td>1930-06-30</td>\n",
       "    </tr>\n",
       "    <tr>\n",
       "      <th>2</th>\n",
       "      <td>Holyoke</td>\n",
       "      <td>NaN</td>\n",
       "      <td>OVAL</td>\n",
       "      <td>CO</td>\n",
       "      <td>2/15/1931 14:00</td>\n",
       "      <td>1931-02-15 14:00:00</td>\n",
       "      <td>1931-02-15</td>\n",
       "    </tr>\n",
       "    <tr>\n",
       "      <th>3</th>\n",
       "      <td>Abilene</td>\n",
       "      <td>NaN</td>\n",
       "      <td>DISK</td>\n",
       "      <td>KS</td>\n",
       "      <td>6/1/1931 13:00</td>\n",
       "      <td>1931-06-01 13:00:00</td>\n",
       "      <td>1931-06-01</td>\n",
       "    </tr>\n",
       "    <tr>\n",
       "      <th>4</th>\n",
       "      <td>New York Worlds Fair</td>\n",
       "      <td>NaN</td>\n",
       "      <td>LIGHT</td>\n",
       "      <td>NY</td>\n",
       "      <td>4/18/1933 19:00</td>\n",
       "      <td>1933-04-18 19:00:00</td>\n",
       "      <td>1933-04-18</td>\n",
       "    </tr>\n",
       "  </tbody>\n",
       "</table>\n",
       "</div>"
      ],
      "text/plain": [
       "                   City Colors Reported Shape Reported State             Time  \\\n",
       "0                Ithaca             NaN       TRIANGLE    NY   6/1/1930 22:00   \n",
       "1           Willingboro             NaN          OTHER    NJ  6/30/1930 20:00   \n",
       "2               Holyoke             NaN           OVAL    CO  2/15/1931 14:00   \n",
       "3               Abilene             NaN           DISK    KS   6/1/1931 13:00   \n",
       "4  New York Worlds Fair             NaN          LIGHT    NY  4/18/1933 19:00   \n",
       "\n",
       "            Time_date        date  \n",
       "0 1930-06-01 22:00:00  1930-06-01  \n",
       "1 1930-06-30 20:00:00  1930-06-30  \n",
       "2 1931-02-15 14:00:00  1931-02-15  \n",
       "3 1931-06-01 13:00:00  1931-06-01  \n",
       "4 1933-04-18 19:00:00  1933-04-18  "
      ]
     },
     "execution_count": 54,
     "metadata": {},
     "output_type": "execute_result"
    }
   ],
   "source": [
    "df.head()"
   ]
  },
  {
   "cell_type": "code",
   "execution_count": 147,
   "id": "dad18f11",
   "metadata": {},
   "outputs": [],
   "source": [
    "df['year'] = df.Time_date.dt.year"
   ]
  },
  {
   "cell_type": "code",
   "execution_count": 145,
   "id": "b9646006",
   "metadata": {},
   "outputs": [],
   "source": [
    "df['now_year'] = df.now.apply(lambda x: x.year)"
   ]
  },
  {
   "cell_type": "code",
   "execution_count": 150,
   "id": "0596e1bd",
   "metadata": {},
   "outputs": [],
   "source": [
    "df['year_diff'] = df['now_year'] - df['year']"
   ]
  },
  {
   "cell_type": "code",
   "execution_count": 151,
   "id": "5d9b8611",
   "metadata": {},
   "outputs": [
    {
     "data": {
      "text/html": [
       "<div>\n",
       "<style scoped>\n",
       "    .dataframe tbody tr th:only-of-type {\n",
       "        vertical-align: middle;\n",
       "    }\n",
       "\n",
       "    .dataframe tbody tr th {\n",
       "        vertical-align: top;\n",
       "    }\n",
       "\n",
       "    .dataframe thead th {\n",
       "        text-align: right;\n",
       "    }\n",
       "</style>\n",
       "<table border=\"1\" class=\"dataframe\">\n",
       "  <thead>\n",
       "    <tr style=\"text-align: right;\">\n",
       "      <th></th>\n",
       "      <th>City</th>\n",
       "      <th>Colors Reported</th>\n",
       "      <th>Shape Reported</th>\n",
       "      <th>State</th>\n",
       "      <th>Time</th>\n",
       "      <th>Time_date</th>\n",
       "      <th>date</th>\n",
       "      <th>now</th>\n",
       "      <th>day_diff</th>\n",
       "      <th>now_year</th>\n",
       "      <th>year</th>\n",
       "      <th>year_diff</th>\n",
       "    </tr>\n",
       "  </thead>\n",
       "  <tbody>\n",
       "    <tr>\n",
       "      <th>0</th>\n",
       "      <td>Ithaca</td>\n",
       "      <td>NaN</td>\n",
       "      <td>TRIANGLE</td>\n",
       "      <td>NY</td>\n",
       "      <td>6/1/1930 22:00</td>\n",
       "      <td>1930-06-01 22:00:00</td>\n",
       "      <td>1930-06-01</td>\n",
       "      <td>2023-04-20</td>\n",
       "      <td>33925 days</td>\n",
       "      <td>2023</td>\n",
       "      <td>1930</td>\n",
       "      <td>93</td>\n",
       "    </tr>\n",
       "    <tr>\n",
       "      <th>1</th>\n",
       "      <td>Willingboro</td>\n",
       "      <td>NaN</td>\n",
       "      <td>OTHER</td>\n",
       "      <td>NJ</td>\n",
       "      <td>6/30/1930 20:00</td>\n",
       "      <td>1930-06-30 20:00:00</td>\n",
       "      <td>1930-06-30</td>\n",
       "      <td>2023-04-20</td>\n",
       "      <td>33896 days</td>\n",
       "      <td>2023</td>\n",
       "      <td>1930</td>\n",
       "      <td>93</td>\n",
       "    </tr>\n",
       "    <tr>\n",
       "      <th>2</th>\n",
       "      <td>Holyoke</td>\n",
       "      <td>NaN</td>\n",
       "      <td>OVAL</td>\n",
       "      <td>CO</td>\n",
       "      <td>2/15/1931 14:00</td>\n",
       "      <td>1931-02-15 14:00:00</td>\n",
       "      <td>1931-02-15</td>\n",
       "      <td>2023-04-20</td>\n",
       "      <td>33666 days</td>\n",
       "      <td>2023</td>\n",
       "      <td>1931</td>\n",
       "      <td>92</td>\n",
       "    </tr>\n",
       "    <tr>\n",
       "      <th>3</th>\n",
       "      <td>Abilene</td>\n",
       "      <td>NaN</td>\n",
       "      <td>DISK</td>\n",
       "      <td>KS</td>\n",
       "      <td>6/1/1931 13:00</td>\n",
       "      <td>1931-06-01 13:00:00</td>\n",
       "      <td>1931-06-01</td>\n",
       "      <td>2023-04-20</td>\n",
       "      <td>33560 days</td>\n",
       "      <td>2023</td>\n",
       "      <td>1931</td>\n",
       "      <td>92</td>\n",
       "    </tr>\n",
       "    <tr>\n",
       "      <th>4</th>\n",
       "      <td>New York Worlds Fair</td>\n",
       "      <td>NaN</td>\n",
       "      <td>LIGHT</td>\n",
       "      <td>NY</td>\n",
       "      <td>4/18/1933 19:00</td>\n",
       "      <td>1933-04-18 19:00:00</td>\n",
       "      <td>1933-04-18</td>\n",
       "      <td>2023-04-20</td>\n",
       "      <td>32873 days</td>\n",
       "      <td>2023</td>\n",
       "      <td>1933</td>\n",
       "      <td>90</td>\n",
       "    </tr>\n",
       "  </tbody>\n",
       "</table>\n",
       "</div>"
      ],
      "text/plain": [
       "                   City Colors Reported Shape Reported State             Time  \\\n",
       "0                Ithaca             NaN       TRIANGLE    NY   6/1/1930 22:00   \n",
       "1           Willingboro             NaN          OTHER    NJ  6/30/1930 20:00   \n",
       "2               Holyoke             NaN           OVAL    CO  2/15/1931 14:00   \n",
       "3               Abilene             NaN           DISK    KS   6/1/1931 13:00   \n",
       "4  New York Worlds Fair             NaN          LIGHT    NY  4/18/1933 19:00   \n",
       "\n",
       "            Time_date        date         now   day_diff  now_year  year  \\\n",
       "0 1930-06-01 22:00:00  1930-06-01  2023-04-20 33925 days      2023  1930   \n",
       "1 1930-06-30 20:00:00  1930-06-30  2023-04-20 33896 days      2023  1930   \n",
       "2 1931-02-15 14:00:00  1931-02-15  2023-04-20 33666 days      2023  1931   \n",
       "3 1931-06-01 13:00:00  1931-06-01  2023-04-20 33560 days      2023  1931   \n",
       "4 1933-04-18 19:00:00  1933-04-18  2023-04-20 32873 days      2023  1933   \n",
       "\n",
       "   year_diff  \n",
       "0         93  \n",
       "1         93  \n",
       "2         92  \n",
       "3         92  \n",
       "4         90  "
      ]
     },
     "execution_count": 151,
     "metadata": {},
     "output_type": "execute_result"
    }
   ],
   "source": [
    "df.head()"
   ]
  },
  {
   "cell_type": "code",
   "execution_count": 152,
   "id": "fd17bcee",
   "metadata": {},
   "outputs": [],
   "source": [
    "df['After_a_week'] = df.date + timedelta(weeks=1)"
   ]
  },
  {
   "cell_type": "code",
   "execution_count": 153,
   "id": "f03e2bb9",
   "metadata": {},
   "outputs": [
    {
     "data": {
      "text/html": [
       "<div>\n",
       "<style scoped>\n",
       "    .dataframe tbody tr th:only-of-type {\n",
       "        vertical-align: middle;\n",
       "    }\n",
       "\n",
       "    .dataframe tbody tr th {\n",
       "        vertical-align: top;\n",
       "    }\n",
       "\n",
       "    .dataframe thead th {\n",
       "        text-align: right;\n",
       "    }\n",
       "</style>\n",
       "<table border=\"1\" class=\"dataframe\">\n",
       "  <thead>\n",
       "    <tr style=\"text-align: right;\">\n",
       "      <th></th>\n",
       "      <th>City</th>\n",
       "      <th>Colors Reported</th>\n",
       "      <th>Shape Reported</th>\n",
       "      <th>State</th>\n",
       "      <th>Time</th>\n",
       "      <th>Time_date</th>\n",
       "      <th>date</th>\n",
       "      <th>now</th>\n",
       "      <th>day_diff</th>\n",
       "      <th>now_year</th>\n",
       "      <th>year</th>\n",
       "      <th>year_diff</th>\n",
       "      <th>After_a_week</th>\n",
       "    </tr>\n",
       "  </thead>\n",
       "  <tbody>\n",
       "    <tr>\n",
       "      <th>0</th>\n",
       "      <td>Ithaca</td>\n",
       "      <td>NaN</td>\n",
       "      <td>TRIANGLE</td>\n",
       "      <td>NY</td>\n",
       "      <td>6/1/1930 22:00</td>\n",
       "      <td>1930-06-01 22:00:00</td>\n",
       "      <td>1930-06-01</td>\n",
       "      <td>2023-04-20</td>\n",
       "      <td>33925 days</td>\n",
       "      <td>2023</td>\n",
       "      <td>1930</td>\n",
       "      <td>93</td>\n",
       "      <td>1930-06-08</td>\n",
       "    </tr>\n",
       "    <tr>\n",
       "      <th>1</th>\n",
       "      <td>Willingboro</td>\n",
       "      <td>NaN</td>\n",
       "      <td>OTHER</td>\n",
       "      <td>NJ</td>\n",
       "      <td>6/30/1930 20:00</td>\n",
       "      <td>1930-06-30 20:00:00</td>\n",
       "      <td>1930-06-30</td>\n",
       "      <td>2023-04-20</td>\n",
       "      <td>33896 days</td>\n",
       "      <td>2023</td>\n",
       "      <td>1930</td>\n",
       "      <td>93</td>\n",
       "      <td>1930-07-07</td>\n",
       "    </tr>\n",
       "    <tr>\n",
       "      <th>2</th>\n",
       "      <td>Holyoke</td>\n",
       "      <td>NaN</td>\n",
       "      <td>OVAL</td>\n",
       "      <td>CO</td>\n",
       "      <td>2/15/1931 14:00</td>\n",
       "      <td>1931-02-15 14:00:00</td>\n",
       "      <td>1931-02-15</td>\n",
       "      <td>2023-04-20</td>\n",
       "      <td>33666 days</td>\n",
       "      <td>2023</td>\n",
       "      <td>1931</td>\n",
       "      <td>92</td>\n",
       "      <td>1931-02-22</td>\n",
       "    </tr>\n",
       "    <tr>\n",
       "      <th>3</th>\n",
       "      <td>Abilene</td>\n",
       "      <td>NaN</td>\n",
       "      <td>DISK</td>\n",
       "      <td>KS</td>\n",
       "      <td>6/1/1931 13:00</td>\n",
       "      <td>1931-06-01 13:00:00</td>\n",
       "      <td>1931-06-01</td>\n",
       "      <td>2023-04-20</td>\n",
       "      <td>33560 days</td>\n",
       "      <td>2023</td>\n",
       "      <td>1931</td>\n",
       "      <td>92</td>\n",
       "      <td>1931-06-08</td>\n",
       "    </tr>\n",
       "    <tr>\n",
       "      <th>4</th>\n",
       "      <td>New York Worlds Fair</td>\n",
       "      <td>NaN</td>\n",
       "      <td>LIGHT</td>\n",
       "      <td>NY</td>\n",
       "      <td>4/18/1933 19:00</td>\n",
       "      <td>1933-04-18 19:00:00</td>\n",
       "      <td>1933-04-18</td>\n",
       "      <td>2023-04-20</td>\n",
       "      <td>32873 days</td>\n",
       "      <td>2023</td>\n",
       "      <td>1933</td>\n",
       "      <td>90</td>\n",
       "      <td>1933-04-25</td>\n",
       "    </tr>\n",
       "  </tbody>\n",
       "</table>\n",
       "</div>"
      ],
      "text/plain": [
       "                   City Colors Reported Shape Reported State             Time  \\\n",
       "0                Ithaca             NaN       TRIANGLE    NY   6/1/1930 22:00   \n",
       "1           Willingboro             NaN          OTHER    NJ  6/30/1930 20:00   \n",
       "2               Holyoke             NaN           OVAL    CO  2/15/1931 14:00   \n",
       "3               Abilene             NaN           DISK    KS   6/1/1931 13:00   \n",
       "4  New York Worlds Fair             NaN          LIGHT    NY  4/18/1933 19:00   \n",
       "\n",
       "            Time_date        date         now   day_diff  now_year  year  \\\n",
       "0 1930-06-01 22:00:00  1930-06-01  2023-04-20 33925 days      2023  1930   \n",
       "1 1930-06-30 20:00:00  1930-06-30  2023-04-20 33896 days      2023  1930   \n",
       "2 1931-02-15 14:00:00  1931-02-15  2023-04-20 33666 days      2023  1931   \n",
       "3 1931-06-01 13:00:00  1931-06-01  2023-04-20 33560 days      2023  1931   \n",
       "4 1933-04-18 19:00:00  1933-04-18  2023-04-20 32873 days      2023  1933   \n",
       "\n",
       "   year_diff After_a_week  \n",
       "0         93   1930-06-08  \n",
       "1         93   1930-07-07  \n",
       "2         92   1931-02-22  \n",
       "3         92   1931-06-08  \n",
       "4         90   1933-04-25  "
      ]
     },
     "execution_count": 153,
     "metadata": {},
     "output_type": "execute_result"
    }
   ],
   "source": [
    "df.head()"
   ]
  },
  {
   "cell_type": "code",
   "execution_count": null,
   "id": "d28ee964",
   "metadata": {},
   "outputs": [],
   "source": []
  }
 ],
 "metadata": {
  "kernelspec": {
   "display_name": "Python 3 (ipykernel)",
   "language": "python",
   "name": "python3"
  },
  "language_info": {
   "codemirror_mode": {
    "name": "ipython",
    "version": 3
   },
   "file_extension": ".py",
   "mimetype": "text/x-python",
   "name": "python",
   "nbconvert_exporter": "python",
   "pygments_lexer": "ipython3",
   "version": "3.9.13"
  }
 },
 "nbformat": 4,
 "nbformat_minor": 5
}
