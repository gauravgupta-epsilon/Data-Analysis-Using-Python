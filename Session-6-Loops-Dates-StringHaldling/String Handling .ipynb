{
 "cells": [
  {
   "cell_type": "markdown",
   "id": "f8ea4f4c",
   "metadata": {},
   "source": [
    "### Read the data & import required libraries.."
   ]
  },
  {
   "cell_type": "code",
   "execution_count": 1,
   "id": "69e0aac8",
   "metadata": {},
   "outputs": [],
   "source": [
    "import pandas as pd"
   ]
  },
  {
   "cell_type": "code",
   "execution_count": 2,
   "id": "6e01e595",
   "metadata": {},
   "outputs": [],
   "source": [
    "df = pd.read_excel('Sales Data.xlsx')"
   ]
  },
  {
   "cell_type": "code",
   "execution_count": 3,
   "id": "a6d2b66e",
   "metadata": {},
   "outputs": [
    {
     "data": {
      "text/html": [
       "<div>\n",
       "<style scoped>\n",
       "    .dataframe tbody tr th:only-of-type {\n",
       "        vertical-align: middle;\n",
       "    }\n",
       "\n",
       "    .dataframe tbody tr th {\n",
       "        vertical-align: top;\n",
       "    }\n",
       "\n",
       "    .dataframe thead th {\n",
       "        text-align: right;\n",
       "    }\n",
       "</style>\n",
       "<table border=\"1\" class=\"dataframe\">\n",
       "  <thead>\n",
       "    <tr style=\"text-align: right;\">\n",
       "      <th></th>\n",
       "      <th>JE Code</th>\n",
       "      <th>Store</th>\n",
       "      <th>Country</th>\n",
       "      <th>Region</th>\n",
       "      <th>Date</th>\n",
       "      <th>Item</th>\n",
       "      <th>Salesperson</th>\n",
       "      <th>List Price</th>\n",
       "      <th>Actual Price</th>\n",
       "      <th>Discount %</th>\n",
       "    </tr>\n",
       "  </thead>\n",
       "  <tbody>\n",
       "    <tr>\n",
       "      <th>0</th>\n",
       "      <td>I-1001</td>\n",
       "      <td>Moscow</td>\n",
       "      <td>Russia</td>\n",
       "      <td>EMEA</td>\n",
       "      <td>2018-10-06</td>\n",
       "      <td>Microwave</td>\n",
       "      <td>May Wilmot,Russia</td>\n",
       "      <td>80</td>\n",
       "      <td>79</td>\n",
       "      <td>0.0125</td>\n",
       "    </tr>\n",
       "    <tr>\n",
       "      <th>1</th>\n",
       "      <td>I-1002</td>\n",
       "      <td>Toronto</td>\n",
       "      <td>Canada</td>\n",
       "      <td>NaN</td>\n",
       "      <td>2015-04-23</td>\n",
       "      <td>Microwave</td>\n",
       "      <td>David Shiner,Canada</td>\n",
       "      <td>80</td>\n",
       "      <td>54</td>\n",
       "      <td>0.3250</td>\n",
       "    </tr>\n",
       "    <tr>\n",
       "      <th>2</th>\n",
       "      <td>I-1003</td>\n",
       "      <td>Sao Paolo</td>\n",
       "      <td>Brazil</td>\n",
       "      <td>LATAM</td>\n",
       "      <td>2017-04-03</td>\n",
       "      <td>Air conditioner</td>\n",
       "      <td>Gary Reynolds,Brazil</td>\n",
       "      <td>700</td>\n",
       "      <td>686</td>\n",
       "      <td>0.0200</td>\n",
       "    </tr>\n",
       "    <tr>\n",
       "      <th>3</th>\n",
       "      <td>I-1004</td>\n",
       "      <td>Istanbul</td>\n",
       "      <td>Turkey</td>\n",
       "      <td>EMEA</td>\n",
       "      <td>2018-08-14</td>\n",
       "      <td>Ceiling fan</td>\n",
       "      <td>Mark Buntain,Turkey</td>\n",
       "      <td>150</td>\n",
       "      <td>137</td>\n",
       "      <td>0.0867</td>\n",
       "    </tr>\n",
       "    <tr>\n",
       "      <th>4</th>\n",
       "      <td>I-1005</td>\n",
       "      <td>Sydney</td>\n",
       "      <td>Australia</td>\n",
       "      <td>APAC</td>\n",
       "      <td>2015-03-03</td>\n",
       "      <td>Toaster</td>\n",
       "      <td>Christine     Davies,Australia</td>\n",
       "      <td>50</td>\n",
       "      <td>37</td>\n",
       "      <td>0.2600</td>\n",
       "    </tr>\n",
       "  </tbody>\n",
       "</table>\n",
       "</div>"
      ],
      "text/plain": [
       "  JE Code      Store    Country Region       Date             Item  \\\n",
       "0  I-1001     Moscow     Russia   EMEA 2018-10-06        Microwave   \n",
       "1  I-1002    Toronto     Canada    NaN 2015-04-23        Microwave   \n",
       "2  I-1003  Sao Paolo     Brazil  LATAM 2017-04-03  Air conditioner   \n",
       "3  I-1004   Istanbul     Turkey   EMEA 2018-08-14      Ceiling fan   \n",
       "4  I-1005     Sydney  Australia   APAC 2015-03-03          Toaster   \n",
       "\n",
       "                      Salesperson  List Price  Actual Price  Discount %  \n",
       "0               May Wilmot,Russia          80            79      0.0125  \n",
       "1             David Shiner,Canada          80            54      0.3250  \n",
       "2            Gary Reynolds,Brazil         700           686      0.0200  \n",
       "3             Mark Buntain,Turkey         150           137      0.0867  \n",
       "4  Christine     Davies,Australia          50            37      0.2600  "
      ]
     },
     "execution_count": 3,
     "metadata": {},
     "output_type": "execute_result"
    }
   ],
   "source": [
    "df.head()"
   ]
  },
  {
   "cell_type": "code",
   "execution_count": 4,
   "id": "cdc049df",
   "metadata": {},
   "outputs": [
    {
     "data": {
      "text/plain": [
       "'  MAY WILMOT,RUSSIA'"
      ]
     },
     "execution_count": 4,
     "metadata": {},
     "output_type": "execute_result"
    }
   ],
   "source": [
    "## Upcase sting in pandas.\n",
    "# df.Salesperson.str.upper()\n",
    "Salesman = '  May Wilmot,Russia';\n",
    "Salesman.upper()"
   ]
  },
  {
   "cell_type": "code",
   "execution_count": 5,
   "id": "a7acd5b4",
   "metadata": {},
   "outputs": [
    {
     "data": {
      "text/plain": [
       "'  may wilmot,russia'"
      ]
     },
     "execution_count": 5,
     "metadata": {},
     "output_type": "execute_result"
    }
   ],
   "source": [
    "## lowercase sting in pandas.\n",
    "# df.Salesperson.str.lower()\n",
    "Salesman.lower()"
   ]
  },
  {
   "cell_type": "code",
   "execution_count": 6,
   "id": "50bcb136",
   "metadata": {},
   "outputs": [
    {
     "data": {
      "text/plain": [
       "'  May Wilmot,Russia'"
      ]
     },
     "execution_count": 6,
     "metadata": {},
     "output_type": "execute_result"
    }
   ],
   "source": [
    "## Title sting in pandas.\n",
    "# df.Salesperson.str.title()\n",
    "Salesman.title()"
   ]
  },
  {
   "cell_type": "code",
   "execution_count": 7,
   "id": "66802fe2",
   "metadata": {},
   "outputs": [
    {
     "data": {
      "text/plain": [
       "19"
      ]
     },
     "execution_count": 7,
     "metadata": {},
     "output_type": "execute_result"
    }
   ],
   "source": [
    "## Find length of the string.\n",
    "len(Salesman)\n",
    "# df.Salesperson.str.len()"
   ]
  },
  {
   "cell_type": "code",
   "execution_count": 10,
   "id": "79aa66c1",
   "metadata": {},
   "outputs": [
    {
     "data": {
      "text/plain": [
       "10"
      ]
     },
     "execution_count": 10,
     "metadata": {},
     "output_type": "execute_result"
    }
   ],
   "source": [
    "### Return the location of String.\n",
    "stripped = Salesman.strip()\n",
    "loc = stripped.find(\",\")\n",
    "# loc = df.Salesperson.str.find(\",\")\n",
    "# loc\n",
    "loc"
   ]
  },
  {
   "cell_type": "markdown",
   "id": "4f7dbcb1",
   "metadata": {},
   "source": [
    "### Segreagate Name and country from the String."
   ]
  },
  {
   "cell_type": "code",
   "execution_count": 12,
   "id": "24f48d09",
   "metadata": {},
   "outputs": [
    {
     "data": {
      "text/html": [
       "<div>\n",
       "<style scoped>\n",
       "    .dataframe tbody tr th:only-of-type {\n",
       "        vertical-align: middle;\n",
       "    }\n",
       "\n",
       "    .dataframe tbody tr th {\n",
       "        vertical-align: top;\n",
       "    }\n",
       "\n",
       "    .dataframe thead th {\n",
       "        text-align: right;\n",
       "    }\n",
       "</style>\n",
       "<table border=\"1\" class=\"dataframe\">\n",
       "  <thead>\n",
       "    <tr style=\"text-align: right;\">\n",
       "      <th></th>\n",
       "      <th>JE Code</th>\n",
       "      <th>Store</th>\n",
       "      <th>Country</th>\n",
       "      <th>Region</th>\n",
       "      <th>Date</th>\n",
       "      <th>Item</th>\n",
       "      <th>Salesperson</th>\n",
       "      <th>List Price</th>\n",
       "      <th>Actual Price</th>\n",
       "      <th>Discount %</th>\n",
       "      <th>Name</th>\n",
       "      <th>Country1</th>\n",
       "    </tr>\n",
       "  </thead>\n",
       "  <tbody>\n",
       "    <tr>\n",
       "      <th>0</th>\n",
       "      <td>I-1001</td>\n",
       "      <td>Moscow</td>\n",
       "      <td>Russia</td>\n",
       "      <td>EMEA</td>\n",
       "      <td>2018-10-06</td>\n",
       "      <td>Microwave</td>\n",
       "      <td>May Wilmot,Russia</td>\n",
       "      <td>80</td>\n",
       "      <td>79</td>\n",
       "      <td>0.0125</td>\n",
       "      <td>May Wilmot</td>\n",
       "      <td>Russia</td>\n",
       "    </tr>\n",
       "    <tr>\n",
       "      <th>1</th>\n",
       "      <td>I-1002</td>\n",
       "      <td>Toronto</td>\n",
       "      <td>Canada</td>\n",
       "      <td>NaN</td>\n",
       "      <td>2015-04-23</td>\n",
       "      <td>Microwave</td>\n",
       "      <td>David Shiner,Canada</td>\n",
       "      <td>80</td>\n",
       "      <td>54</td>\n",
       "      <td>0.3250</td>\n",
       "      <td>David Shiner</td>\n",
       "      <td>Canada</td>\n",
       "    </tr>\n",
       "    <tr>\n",
       "      <th>2</th>\n",
       "      <td>I-1003</td>\n",
       "      <td>Sao Paolo</td>\n",
       "      <td>Brazil</td>\n",
       "      <td>LATAM</td>\n",
       "      <td>2017-04-03</td>\n",
       "      <td>Air conditioner</td>\n",
       "      <td>Gary Reynolds,Brazil</td>\n",
       "      <td>700</td>\n",
       "      <td>686</td>\n",
       "      <td>0.0200</td>\n",
       "      <td>Gary Reynolds</td>\n",
       "      <td>Brazil</td>\n",
       "    </tr>\n",
       "    <tr>\n",
       "      <th>3</th>\n",
       "      <td>I-1004</td>\n",
       "      <td>Istanbul</td>\n",
       "      <td>Turkey</td>\n",
       "      <td>EMEA</td>\n",
       "      <td>2018-08-14</td>\n",
       "      <td>Ceiling fan</td>\n",
       "      <td>Mark Buntain,Turkey</td>\n",
       "      <td>150</td>\n",
       "      <td>137</td>\n",
       "      <td>0.0867</td>\n",
       "      <td>Mark Buntain</td>\n",
       "      <td>Turkey</td>\n",
       "    </tr>\n",
       "    <tr>\n",
       "      <th>4</th>\n",
       "      <td>I-1005</td>\n",
       "      <td>Sydney</td>\n",
       "      <td>Australia</td>\n",
       "      <td>APAC</td>\n",
       "      <td>2015-03-03</td>\n",
       "      <td>Toaster</td>\n",
       "      <td>Christine     Davies,Australia</td>\n",
       "      <td>50</td>\n",
       "      <td>37</td>\n",
       "      <td>0.2600</td>\n",
       "      <td>Christine     Davies</td>\n",
       "      <td>Australia</td>\n",
       "    </tr>\n",
       "  </tbody>\n",
       "</table>\n",
       "</div>"
      ],
      "text/plain": [
       "  JE Code      Store    Country Region       Date             Item  \\\n",
       "0  I-1001     Moscow     Russia   EMEA 2018-10-06        Microwave   \n",
       "1  I-1002    Toronto     Canada    NaN 2015-04-23        Microwave   \n",
       "2  I-1003  Sao Paolo     Brazil  LATAM 2017-04-03  Air conditioner   \n",
       "3  I-1004   Istanbul     Turkey   EMEA 2018-08-14      Ceiling fan   \n",
       "4  I-1005     Sydney  Australia   APAC 2015-03-03          Toaster   \n",
       "\n",
       "                      Salesperson  List Price  Actual Price  Discount %  \\\n",
       "0               May Wilmot,Russia          80            79      0.0125   \n",
       "1             David Shiner,Canada          80            54      0.3250   \n",
       "2            Gary Reynolds,Brazil         700           686      0.0200   \n",
       "3             Mark Buntain,Turkey         150           137      0.0867   \n",
       "4  Christine     Davies,Australia          50            37      0.2600   \n",
       "\n",
       "                   Name   Country1  \n",
       "0            May Wilmot     Russia  \n",
       "1          David Shiner     Canada  \n",
       "2         Gary Reynolds     Brazil  \n",
       "3          Mark Buntain     Turkey  \n",
       "4  Christine     Davies  Australia  "
      ]
     },
     "execution_count": 12,
     "metadata": {},
     "output_type": "execute_result"
    }
   ],
   "source": [
    "def strings(x):\n",
    "    stripped = x.strip()\n",
    "    loc = stripped.find(\",\")\n",
    "    First_name = stripped[:loc]\n",
    "    Country = stripped[loc+1:]\n",
    "    return pd.Series([First_name, Country])\n",
    "\n",
    "df[['Name','Country1']] = df.Salesperson.apply(strings)\n",
    "\n",
    "df.head()\n",
    "# df.Salesperson.apply(strings)"
   ]
  },
  {
   "attachments": {
    "image.png": {
     "image/png": "[encoded data removed]"
    }
   },
   "cell_type": "markdown",
   "id": "e8555b05",
   "metadata": {},
   "source": [
    "### String functions in Python..\n",
    "![image.png](attachment:image.png)"
   ]
  },
  {
   "cell_type": "code",
   "execution_count": 77,
   "id": "381201ed",
   "metadata": {},
   "outputs": [
    {
     "data": {
      "text/html": [
       "<div>\n",
       "<style scoped>\n",
       "    .dataframe tbody tr th:only-of-type {\n",
       "        vertical-align: middle;\n",
       "    }\n",
       "\n",
       "    .dataframe tbody tr th {\n",
       "        vertical-align: top;\n",
       "    }\n",
       "\n",
       "    .dataframe thead th {\n",
       "        text-align: right;\n",
       "    }\n",
       "</style>\n",
       "<table border=\"1\" class=\"dataframe\">\n",
       "  <thead>\n",
       "    <tr style=\"text-align: right;\">\n",
       "      <th></th>\n",
       "      <th>JE Code</th>\n",
       "      <th>Store</th>\n",
       "      <th>Country</th>\n",
       "      <th>Region</th>\n",
       "      <th>Date</th>\n",
       "      <th>Item</th>\n",
       "      <th>Salesperson</th>\n",
       "      <th>List Price</th>\n",
       "      <th>Actual Price</th>\n",
       "      <th>Discount %</th>\n",
       "      <th>Name</th>\n",
       "    </tr>\n",
       "  </thead>\n",
       "  <tbody>\n",
       "    <tr>\n",
       "      <th>0</th>\n",
       "      <td>I-1001</td>\n",
       "      <td>Moscow</td>\n",
       "      <td>Russia</td>\n",
       "      <td>EMEA</td>\n",
       "      <td>2018-10-06</td>\n",
       "      <td>Microwave</td>\n",
       "      <td>May Wilmot,Russia</td>\n",
       "      <td>80</td>\n",
       "      <td>79</td>\n",
       "      <td>0.0125</td>\n",
       "      <td>May Wilmot</td>\n",
       "    </tr>\n",
       "    <tr>\n",
       "      <th>1</th>\n",
       "      <td>I-1002</td>\n",
       "      <td>Toronto</td>\n",
       "      <td>Canada</td>\n",
       "      <td>NaN</td>\n",
       "      <td>2015-04-23</td>\n",
       "      <td>Microwave</td>\n",
       "      <td>David Shiner,Canada</td>\n",
       "      <td>80</td>\n",
       "      <td>54</td>\n",
       "      <td>0.3250</td>\n",
       "      <td>David Shiner</td>\n",
       "    </tr>\n",
       "    <tr>\n",
       "      <th>2</th>\n",
       "      <td>I-1003</td>\n",
       "      <td>Sao Paolo</td>\n",
       "      <td>Brazil</td>\n",
       "      <td>LATAM</td>\n",
       "      <td>2017-04-03</td>\n",
       "      <td>Air conditioner</td>\n",
       "      <td>Gary Reynolds,Brazil</td>\n",
       "      <td>700</td>\n",
       "      <td>686</td>\n",
       "      <td>0.0200</td>\n",
       "      <td>Gary Reynolds</td>\n",
       "    </tr>\n",
       "    <tr>\n",
       "      <th>3</th>\n",
       "      <td>I-1004</td>\n",
       "      <td>Istanbul</td>\n",
       "      <td>Turkey</td>\n",
       "      <td>EMEA</td>\n",
       "      <td>2018-08-14</td>\n",
       "      <td>Ceiling fan</td>\n",
       "      <td>Mark Buntain,Turkey</td>\n",
       "      <td>150</td>\n",
       "      <td>137</td>\n",
       "      <td>0.0867</td>\n",
       "      <td>Mark Buntain</td>\n",
       "    </tr>\n",
       "    <tr>\n",
       "      <th>4</th>\n",
       "      <td>I-1005</td>\n",
       "      <td>Sydney</td>\n",
       "      <td>Australia</td>\n",
       "      <td>APAC</td>\n",
       "      <td>2015-03-03</td>\n",
       "      <td>Toaster</td>\n",
       "      <td>Christine     Davies,Australia</td>\n",
       "      <td>50</td>\n",
       "      <td>37</td>\n",
       "      <td>0.2600</td>\n",
       "      <td>Christine     Davies</td>\n",
       "    </tr>\n",
       "  </tbody>\n",
       "</table>\n",
       "</div>"
      ],
      "text/plain": [
       "  JE Code      Store    Country Region       Date             Item  \\\n",
       "0  I-1001     Moscow     Russia   EMEA 2018-10-06        Microwave   \n",
       "1  I-1002    Toronto     Canada    NaN 2015-04-23        Microwave   \n",
       "2  I-1003  Sao Paolo     Brazil  LATAM 2017-04-03  Air conditioner   \n",
       "3  I-1004   Istanbul     Turkey   EMEA 2018-08-14      Ceiling fan   \n",
       "4  I-1005     Sydney  Australia   APAC 2015-03-03          Toaster   \n",
       "\n",
       "                      Salesperson  List Price  Actual Price  Discount %  \\\n",
       "0               May Wilmot,Russia          80            79      0.0125   \n",
       "1             David Shiner,Canada          80            54      0.3250   \n",
       "2            Gary Reynolds,Brazil         700           686      0.0200   \n",
       "3             Mark Buntain,Turkey         150           137      0.0867   \n",
       "4  Christine     Davies,Australia          50            37      0.2600   \n",
       "\n",
       "                   Name  \n",
       "0            May Wilmot  \n",
       "1          David Shiner  \n",
       "2         Gary Reynolds  \n",
       "3          Mark Buntain  \n",
       "4  Christine     Davies  "
      ]
     },
     "execution_count": 77,
     "metadata": {},
     "output_type": "execute_result"
    }
   ],
   "source": [
    "df.head()"
   ]
  },
  {
   "cell_type": "code",
   "execution_count": 13,
   "id": "8ec1f0e9",
   "metadata": {},
   "outputs": [
    {
     "name": "stdout",
     "output_type": "stream",
     "text": [
      "338 µs ± 50.1 µs per loop (mean ± std. dev. of 7 runs, 1000 loops each)\n"
     ]
    }
   ],
   "source": [
    "%%timeit\n",
    "df.Store.apply(lambda x : x.lower()).head()"
   ]
  },
  {
   "cell_type": "code",
   "execution_count": 14,
   "id": "a4bd0331",
   "metadata": {},
   "outputs": [
    {
     "name": "stdout",
     "output_type": "stream",
     "text": [
      "208 µs ± 7.8 µs per loop (mean ± std. dev. of 7 runs, 1000 loops each)\n"
     ]
    }
   ],
   "source": [
    "%%timeit\n",
    "df.Store.str.lower()"
   ]
  },
  {
   "cell_type": "markdown",
   "id": "dc8004d1",
   "metadata": {},
   "source": [
    "### Calculate total sale per item and sort it from highest to lowest.."
   ]
  },
  {
   "cell_type": "code",
   "execution_count": 80,
   "id": "721765f5",
   "metadata": {},
   "outputs": [],
   "source": [
    "url = 'https://raw.githubusercontent.com/justmarkham/DAT8/master/data/chipotle.tsv'\n",
    "chipo = pd.read_csv(url, sep = '\\t')"
   ]
  },
  {
   "cell_type": "code",
   "execution_count": 81,
   "id": "bd0fb016",
   "metadata": {},
   "outputs": [
    {
     "data": {
      "text/html": [
       "<div>\n",
       "<style scoped>\n",
       "    .dataframe tbody tr th:only-of-type {\n",
       "        vertical-align: middle;\n",
       "    }\n",
       "\n",
       "    .dataframe tbody tr th {\n",
       "        vertical-align: top;\n",
       "    }\n",
       "\n",
       "    .dataframe thead th {\n",
       "        text-align: right;\n",
       "    }\n",
       "</style>\n",
       "<table border=\"1\" class=\"dataframe\">\n",
       "  <thead>\n",
       "    <tr style=\"text-align: right;\">\n",
       "      <th></th>\n",
       "      <th>order_id</th>\n",
       "      <th>quantity</th>\n",
       "      <th>item_name</th>\n",
       "      <th>choice_description</th>\n",
       "      <th>item_price</th>\n",
       "      <th>item_price_int</th>\n",
       "    </tr>\n",
       "  </thead>\n",
       "  <tbody>\n",
       "    <tr>\n",
       "      <th>0</th>\n",
       "      <td>1</td>\n",
       "      <td>1</td>\n",
       "      <td>Chips and Fresh Tomato Salsa</td>\n",
       "      <td>NaN</td>\n",
       "      <td>$2.39</td>\n",
       "      <td>2.39</td>\n",
       "    </tr>\n",
       "    <tr>\n",
       "      <th>1</th>\n",
       "      <td>1</td>\n",
       "      <td>1</td>\n",
       "      <td>Izze</td>\n",
       "      <td>[Clementine]</td>\n",
       "      <td>$3.39</td>\n",
       "      <td>3.39</td>\n",
       "    </tr>\n",
       "    <tr>\n",
       "      <th>2</th>\n",
       "      <td>1</td>\n",
       "      <td>1</td>\n",
       "      <td>Nantucket Nectar</td>\n",
       "      <td>[Apple]</td>\n",
       "      <td>$3.39</td>\n",
       "      <td>3.39</td>\n",
       "    </tr>\n",
       "    <tr>\n",
       "      <th>3</th>\n",
       "      <td>1</td>\n",
       "      <td>1</td>\n",
       "      <td>Chips and Tomatillo-Green Chili Salsa</td>\n",
       "      <td>NaN</td>\n",
       "      <td>$2.39</td>\n",
       "      <td>2.39</td>\n",
       "    </tr>\n",
       "    <tr>\n",
       "      <th>4</th>\n",
       "      <td>2</td>\n",
       "      <td>2</td>\n",
       "      <td>Chicken Bowl</td>\n",
       "      <td>[Tomatillo-Red Chili Salsa (Hot), [Black Beans...</td>\n",
       "      <td>$16.98</td>\n",
       "      <td>16.98</td>\n",
       "    </tr>\n",
       "  </tbody>\n",
       "</table>\n",
       "</div>"
      ],
      "text/plain": [
       "   order_id  quantity                              item_name  \\\n",
       "0         1         1           Chips and Fresh Tomato Salsa   \n",
       "1         1         1                                   Izze   \n",
       "2         1         1                       Nantucket Nectar   \n",
       "3         1         1  Chips and Tomatillo-Green Chili Salsa   \n",
       "4         2         2                           Chicken Bowl   \n",
       "\n",
       "                                  choice_description item_price  \\\n",
       "0                                                NaN     $2.39    \n",
       "1                                       [Clementine]     $3.39    \n",
       "2                                            [Apple]     $3.39    \n",
       "3                                                NaN     $2.39    \n",
       "4  [Tomatillo-Red Chili Salsa (Hot), [Black Beans...    $16.98    \n",
       "\n",
       "   item_price_int  \n",
       "0            2.39  \n",
       "1            3.39  \n",
       "2            3.39  \n",
       "3            2.39  \n",
       "4           16.98  "
      ]
     },
     "execution_count": 81,
     "metadata": {},
     "output_type": "execute_result"
    }
   ],
   "source": [
    "chipo['item_price_int'] =  chipo.item_price.apply(lambda x : x[1:]).astype('float')\n",
    "chipo.head()"
   ]
  },
  {
   "cell_type": "code",
   "execution_count": 82,
   "id": "7a70c0c7",
   "metadata": {},
   "outputs": [],
   "source": [
    "chipo['Total'] = chipo.quantity*chipo.item_price_int"
   ]
  },
  {
   "cell_type": "code",
   "execution_count": 83,
   "id": "d4c217bf",
   "metadata": {},
   "outputs": [
    {
     "name": "stdout",
     "output_type": "stream",
     "text": [
      "<class 'pandas.core.frame.DataFrame'>\n",
      "RangeIndex: 4622 entries, 0 to 4621\n",
      "Data columns (total 7 columns):\n",
      " #   Column              Non-Null Count  Dtype  \n",
      "---  ------              --------------  -----  \n",
      " 0   order_id            4622 non-null   int64  \n",
      " 1   quantity            4622 non-null   int64  \n",
      " 2   item_name           4622 non-null   object \n",
      " 3   choice_description  3376 non-null   object \n",
      " 4   item_price          4622 non-null   object \n",
      " 5   item_price_int      4622 non-null   float64\n",
      " 6   Total               4622 non-null   float64\n",
      "dtypes: float64(2), int64(2), object(3)\n",
      "memory usage: 252.9+ KB\n"
     ]
    }
   ],
   "source": [
    "chipo.info()"
   ]
  },
  {
   "cell_type": "code",
   "execution_count": 84,
   "id": "1b821d4c",
   "metadata": {},
   "outputs": [
    {
     "data": {
      "text/html": [
       "<div>\n",
       "<style scoped>\n",
       "    .dataframe tbody tr th:only-of-type {\n",
       "        vertical-align: middle;\n",
       "    }\n",
       "\n",
       "    .dataframe tbody tr th {\n",
       "        vertical-align: top;\n",
       "    }\n",
       "\n",
       "    .dataframe thead th {\n",
       "        text-align: right;\n",
       "    }\n",
       "</style>\n",
       "<table border=\"1\" class=\"dataframe\">\n",
       "  <thead>\n",
       "    <tr style=\"text-align: right;\">\n",
       "      <th></th>\n",
       "      <th>order_id</th>\n",
       "      <th>quantity</th>\n",
       "      <th>item_name</th>\n",
       "      <th>choice_description</th>\n",
       "      <th>item_price</th>\n",
       "      <th>item_price_int</th>\n",
       "      <th>Total</th>\n",
       "    </tr>\n",
       "  </thead>\n",
       "  <tbody>\n",
       "    <tr>\n",
       "      <th>0</th>\n",
       "      <td>1</td>\n",
       "      <td>1</td>\n",
       "      <td>Chips and Fresh Tomato Salsa</td>\n",
       "      <td>NaN</td>\n",
       "      <td>$2.39</td>\n",
       "      <td>2.39</td>\n",
       "      <td>2.39</td>\n",
       "    </tr>\n",
       "    <tr>\n",
       "      <th>1</th>\n",
       "      <td>1</td>\n",
       "      <td>1</td>\n",
       "      <td>Izze</td>\n",
       "      <td>[Clementine]</td>\n",
       "      <td>$3.39</td>\n",
       "      <td>3.39</td>\n",
       "      <td>3.39</td>\n",
       "    </tr>\n",
       "    <tr>\n",
       "      <th>2</th>\n",
       "      <td>1</td>\n",
       "      <td>1</td>\n",
       "      <td>Nantucket Nectar</td>\n",
       "      <td>[Apple]</td>\n",
       "      <td>$3.39</td>\n",
       "      <td>3.39</td>\n",
       "      <td>3.39</td>\n",
       "    </tr>\n",
       "    <tr>\n",
       "      <th>3</th>\n",
       "      <td>1</td>\n",
       "      <td>1</td>\n",
       "      <td>Chips and Tomatillo-Green Chili Salsa</td>\n",
       "      <td>NaN</td>\n",
       "      <td>$2.39</td>\n",
       "      <td>2.39</td>\n",
       "      <td>2.39</td>\n",
       "    </tr>\n",
       "    <tr>\n",
       "      <th>4</th>\n",
       "      <td>2</td>\n",
       "      <td>2</td>\n",
       "      <td>Chicken Bowl</td>\n",
       "      <td>[Tomatillo-Red Chili Salsa (Hot), [Black Beans...</td>\n",
       "      <td>$16.98</td>\n",
       "      <td>16.98</td>\n",
       "      <td>33.96</td>\n",
       "    </tr>\n",
       "  </tbody>\n",
       "</table>\n",
       "</div>"
      ],
      "text/plain": [
       "   order_id  quantity                              item_name  \\\n",
       "0         1         1           Chips and Fresh Tomato Salsa   \n",
       "1         1         1                                   Izze   \n",
       "2         1         1                       Nantucket Nectar   \n",
       "3         1         1  Chips and Tomatillo-Green Chili Salsa   \n",
       "4         2         2                           Chicken Bowl   \n",
       "\n",
       "                                  choice_description item_price  \\\n",
       "0                                                NaN     $2.39    \n",
       "1                                       [Clementine]     $3.39    \n",
       "2                                            [Apple]     $3.39    \n",
       "3                                                NaN     $2.39    \n",
       "4  [Tomatillo-Red Chili Salsa (Hot), [Black Beans...    $16.98    \n",
       "\n",
       "   item_price_int  Total  \n",
       "0            2.39   2.39  \n",
       "1            3.39   3.39  \n",
       "2            3.39   3.39  \n",
       "3            2.39   2.39  \n",
       "4           16.98  33.96  "
      ]
     },
     "execution_count": 84,
     "metadata": {},
     "output_type": "execute_result"
    }
   ],
   "source": [
    "chipo.head()"
   ]
  },
  {
   "cell_type": "code",
   "execution_count": 85,
   "id": "5d6b33cc",
   "metadata": {},
   "outputs": [
    {
     "data": {
      "text/plain": [
       "item_name\n",
       "Chips and Mild Fresh Tomato Salsa           3.00\n",
       "Veggie Crispy Tacos                         8.49\n",
       "Carnitas Salad                              8.99\n",
       "Crispy Tacos                               14.80\n",
       "Salad                                      14.80\n",
       "Steak Salad                                35.66\n",
       "Chips and Roasted Chili-Corn Salsa         43.02\n",
       "Burrito                                    44.40\n",
       "Veggie Salad                               50.94\n",
       "Carnitas Salad Bowl                        66.34\n",
       "Izze                                       67.80\n",
       "Chips and Roasted Chili Corn Salsa         73.75\n",
       "Bowl                                       74.00\n",
       "Chicken Salad                              81.09\n",
       "Chips and Tomatillo-Green Chili Salsa      88.43\n",
       "Veggie Soft Tacos                          90.94\n",
       "Chips and Tomatillo-Red Chili Salsa        93.21\n",
       "Carnitas Crispy Tacos                      95.94\n",
       "Barbacoa Salad Bowl                       106.40\n",
       "Nantucket Nectar                          111.87\n",
       "Barbacoa Crispy Tacos                     138.71\n",
       "Chips and Tomatillo Green Chili Salsa     144.55\n",
       "Chips and Tomatillo Red Chili Salsa       159.30\n",
       "Veggie Salad Bowl                         182.50\n",
       "Canned Soda                               191.84\n",
       "Barbacoa Soft Tacos                       250.46\n",
       "Side of Chips                             290.68\n",
       "6 Pack Soft Drink                         369.93\n",
       "Steak Crispy Tacos                        375.32\n",
       "Carnitas Soft Tacos                       375.94\n",
       "Steak Salad Bowl                          391.15\n",
       "Chicken Crispy Tacos                      524.11\n",
       "Steak Soft Tacos                          554.55\n",
       "Chips                                     580.34\n",
       "Canned Soft Drink                         603.75\n",
       "Carnitas Burrito                          616.33\n",
       "Bottled Water                             649.18\n",
       "Barbacoa Bowl                             672.36\n",
       "Carnitas Bowl                             830.71\n",
       "Barbacoa Burrito                          894.75\n",
       "Veggie Bowl                               901.95\n",
       "Veggie Burrito                           1002.27\n",
       "Chips and Fresh Tomato Salsa             1033.96\n",
       "Chicken Soft Tacos                       1199.01\n",
       "Chicken Salad Bowl                       1506.25\n",
       "Chips and Guacamole                      2475.62\n",
       "Steak Bowl                               2479.81\n",
       "Steak Burrito                            4236.13\n",
       "Chicken Burrito                          6387.06\n",
       "Chicken Bowl                             8044.63\n",
       "Name: Total, dtype: float64"
      ]
     },
     "execution_count": 85,
     "metadata": {},
     "output_type": "execute_result"
    }
   ],
   "source": [
    "chipo.groupby('item_name').sum()['Total'].sort_values()"
   ]
  },
  {
   "cell_type": "code",
   "execution_count": null,
   "id": "83baa327",
   "metadata": {},
   "outputs": [],
   "source": []
  }
 ],
 "metadata": {
  "kernelspec": {
   "display_name": "Python 3 (ipykernel)",
   "language": "python",
   "name": "python3"
  },
  "language_info": {
   "codemirror_mode": {
    "name": "ipython",
    "version": 3
   },
   "file_extension": ".py",
   "mimetype": "text/x-python",
   "name": "python",
   "nbconvert_exporter": "python",
   "pygments_lexer": "ipython3",
   "version": "3.9.13"
  }
 },
 "nbformat": 4,
 "nbformat_minor": 5
}
