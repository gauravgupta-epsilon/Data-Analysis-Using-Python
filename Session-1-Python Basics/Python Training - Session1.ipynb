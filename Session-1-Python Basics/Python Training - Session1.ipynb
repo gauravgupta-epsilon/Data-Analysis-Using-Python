{
 "cells": [
  {
   "cell_type": "markdown",
   "id": "782c3f3a",
   "metadata": {},
   "source": [
    "# Basics of Jupyter Notebook"
   ]
  },
  {
   "cell_type": "markdown",
   "id": "ef1ac5f5",
   "metadata": {},
   "source": [
    "1) Installation\n",
    "\n",
    "2) Creating new notebook\n",
    "\n",
    "3) Renaming notebook\n",
    "\n",
    "4) Uploading data\n",
    "\n",
    "5) Cell Types\n",
    "\n",
    "6) Toolbar description"
   ]
  },
  {
   "cell_type": "markdown",
   "id": "71a37489",
   "metadata": {},
   "source": [
    "#  Basic Syntax and Comments"
   ]
  },
  {
   "cell_type": "code",
   "execution_count": 1,
   "id": "1e5af2ca",
   "metadata": {},
   "outputs": [
    {
     "ename": "IndentationError",
     "evalue": "expected an indented block (<ipython-input-1-a314491c53bb>, line 2)",
     "output_type": "error",
     "traceback": [
      "\u001b[1;36m  File \u001b[1;32m\"<ipython-input-1-a314491c53bb>\"\u001b[1;36m, line \u001b[1;32m2\u001b[0m\n\u001b[1;33m    print(\"Five is greater than two!\")\u001b[0m\n\u001b[1;37m    ^\u001b[0m\n\u001b[1;31mIndentationError\u001b[0m\u001b[1;31m:\u001b[0m expected an indented block\n"
     ]
    }
   ],
   "source": [
    "#Indentation\n",
    "if 5 > 2:\n",
    "print(\"Five is greater than two!\")"
   ]
  },
  {
   "cell_type": "code",
   "execution_count": 10,
   "id": "8c66c8c1",
   "metadata": {},
   "outputs": [
    {
     "name": "stdout",
     "output_type": "stream",
     "text": [
      "Five is greater than two!\n",
      "Five is greater than two!\n",
      "Two is smaller than five!\n"
     ]
    }
   ],
   "source": [
    "#Indentation has to be min 1, 4 is ideal\n",
    "#Same clause will have same indentation\n",
    "\n",
    "\n",
    "if 5 > 2:\n",
    " print(\"Five is greater than two!\") \n",
    "if 5 > 2:\n",
    "    print(\"Five is greater than two!\") \n",
    "    print(\"Two is smaller than five!\")"
   ]
  },
  {
   "cell_type": "code",
   "execution_count": 5,
   "id": "bae86000",
   "metadata": {},
   "outputs": [
    {
     "name": "stdout",
     "output_type": "stream",
     "text": [
      "5\n",
      "6\n"
     ]
    }
   ],
   "source": [
    "#Case Sesitive\n",
    "a=5\n",
    "A=6\n",
    "\n",
    "print(a)\n",
    "print(A)"
   ]
  },
  {
   "cell_type": "code",
   "execution_count": 11,
   "id": "fc919cbc",
   "metadata": {
    "scrolled": true
   },
   "outputs": [
    {
     "name": "stdout",
     "output_type": "stream",
     "text": [
      "Hello all\n"
     ]
    }
   ],
   "source": [
    "#Comments - using hash\n",
    "\n",
    "# print(\"Hello world\")\n",
    "# print(\"Hello universe\")\n",
    "# print(\"Hello everyone\")\n",
    "\n",
    "print(\"Hello all\")\n",
    "\n"
   ]
  },
  {
   "cell_type": "code",
   "execution_count": 12,
   "id": "1919e56e",
   "metadata": {},
   "outputs": [
    {
     "name": "stdout",
     "output_type": "stream",
     "text": [
      "Hello campers\n"
     ]
    }
   ],
   "source": [
    "\"\"\"\n",
    "This is a multi-line comment with docstrings\n",
    "\n",
    "print(\"Hello world\")\n",
    "print(\"Hello universe\")\n",
    "print(\"Hello everyone\")\n",
    "\"\"\"\n",
    "\n",
    "print(\"Hello campers\")\n"
   ]
  },
  {
   "cell_type": "markdown",
   "id": "41686e24",
   "metadata": {},
   "source": [
    "# Variables"
   ]
  },
  {
   "cell_type": "code",
   "execution_count": 16,
   "id": "9669921e",
   "metadata": {},
   "outputs": [
    {
     "name": "stdout",
     "output_type": "stream",
     "text": [
      "3\n",
      "sakshi\n"
     ]
    }
   ],
   "source": [
    "#Implicite declaration of variables\n",
    "a = 3\n",
    "b = \"sakshi\"\n",
    "\n",
    "print(a)\n",
    "print(b)\n"
   ]
  },
  {
   "cell_type": "code",
   "execution_count": 19,
   "id": "e38d7331",
   "metadata": {},
   "outputs": [
    {
     "name": "stdout",
     "output_type": "stream",
     "text": [
      "type of a :  <class 'int'>\n",
      "type of b :  <class 'str'>\n"
     ]
    }
   ],
   "source": [
    "print(\"type of a : \",type(a))\n",
    "print(\"type of b : \",type(b))"
   ]
  },
  {
   "cell_type": "code",
   "execution_count": 21,
   "id": "29505a64",
   "metadata": {},
   "outputs": [
    {
     "name": "stdout",
     "output_type": "stream",
     "text": [
      "1\n",
      "type of c :  <class 'str'>\n",
      "2\n",
      "type of c :  <class 'int'>\n",
      "3\n",
      "type of c :  <class 'float'>\n"
     ]
    }
   ],
   "source": [
    "#explicit declaration of variables \n",
    "c = str(3)\n",
    "print(\"1\")\n",
    "print(\"type of c : \", type(c))\n",
    "\n",
    "c = int(3)\n",
    "print(\"2\")\n",
    "print(\"type of c : \", type(c))\n",
    "\n",
    "c = float(3)\n",
    "print(\"3\")\n",
    "print(\"type of c : \", type(c))\n",
    "\n"
   ]
  },
  {
   "cell_type": "markdown",
   "id": "84bb0504",
   "metadata": {},
   "source": [
    "Name of variables\n",
    "1) A variable name must start with a letter or the underscore character\n",
    "\n",
    "2) A variable name cannot start with a number\n",
    "\n",
    "3) A variable name can only contain alpha-numeric characters and underscores (A-z, 0-9, and _ )\n",
    "\n",
    "4) Variable names are case-sensitive (age, Age and AGE are three different variables)\n",
    "\n",
    "5) A variable name cannot be any of the Python keywords."
   ]
  },
  {
   "cell_type": "code",
   "execution_count": 22,
   "id": "3f0c9e7b",
   "metadata": {},
   "outputs": [],
   "source": [
    "myvar = \"Sakshi\"\n",
    "my_var = \"Sakshi\"\n",
    "_my_var = \"Sakshi\"\n",
    "myVar = \"Sakshi\"\n",
    "MYVAR = \"Sakshi\"\n",
    "myvar2 = \"Sakshi\""
   ]
  },
  {
   "cell_type": "code",
   "execution_count": 23,
   "id": "66be6839",
   "metadata": {},
   "outputs": [
    {
     "ename": "SyntaxError",
     "evalue": "invalid syntax (<ipython-input-23-c67e15ff2948>, line 1)",
     "output_type": "error",
     "traceback": [
      "\u001b[1;36m  File \u001b[1;32m\"<ipython-input-23-c67e15ff2948>\"\u001b[1;36m, line \u001b[1;32m1\u001b[0m\n\u001b[1;33m    2myvar = \"Sakshi\"\u001b[0m\n\u001b[1;37m     ^\u001b[0m\n\u001b[1;31mSyntaxError\u001b[0m\u001b[1;31m:\u001b[0m invalid syntax\n"
     ]
    }
   ],
   "source": [
    "2myvar = \"Sakshi\"\n",
    "my-var = \"Sakshi\"\n",
    "my var = \"Sakshi\""
   ]
  },
  {
   "cell_type": "code",
   "execution_count": 28,
   "id": "00bdb245",
   "metadata": {},
   "outputs": [
    {
     "name": "stdout",
     "output_type": "stream",
     "text": [
      "fruit\n",
      "flower\n",
      "vegie\n"
     ]
    }
   ],
   "source": [
    "#Assign values to variable in one go\n",
    "a,b,c = 'fruit','flower','vegie'\n",
    "print(a)\n",
    "print(b)\n",
    "print(c)\n"
   ]
  },
  {
   "cell_type": "code",
   "execution_count": 27,
   "id": "c5304ddd",
   "metadata": {},
   "outputs": [
    {
     "name": "stdout",
     "output_type": "stream",
     "text": [
      "fruit\n",
      "fruit\n",
      "fruit\n"
     ]
    }
   ],
   "source": [
    "a = b = c = 'fruit'\n",
    "print(a)\n",
    "print(b)\n",
    "print(c)"
   ]
  },
  {
   "cell_type": "code",
   "execution_count": 29,
   "id": "9542f3b4",
   "metadata": {},
   "outputs": [
    {
     "name": "stdout",
     "output_type": "stream",
     "text": [
      "fruit\n",
      "flower\n",
      "vegie\n"
     ]
    }
   ],
   "source": [
    "items = ['fruit','flower','vegie']\n",
    "a,b,c = items\n",
    "print(a)\n",
    "print(b)\n",
    "print(c)"
   ]
  },
  {
   "cell_type": "markdown",
   "id": "fac1dbcc",
   "metadata": {},
   "source": [
    "# Descriptive Analysis"
   ]
  },
  {
   "cell_type": "markdown",
   "id": "926bbce7",
   "metadata": {},
   "source": [
    "# Data Types in Python."
   ]
  },
  {
   "cell_type": "markdown",
   "id": "ca62b7c2",
   "metadata": {},
   "source": []
  },
  {
   "cell_type": "code",
   "execution_count": 2,
   "id": "25135ab7",
   "metadata": {},
   "outputs": [
    {
     "name": "stdout",
     "output_type": "stream",
     "text": [
      "<class 'int'>\n",
      "<class 'str'>\n",
      "<class 'float'>\n"
     ]
    }
   ],
   "source": [
    "##Check the data type of a variable \n",
    "a=5\n",
    "b='Hello'\n",
    "c= 4.5\n",
    "print(type(a))\n",
    "print(type(b))\n",
    "print(type(c))"
   ]
  },
  {
   "cell_type": "code",
   "execution_count": 3,
   "id": "8e790756",
   "metadata": {},
   "outputs": [
    {
     "ename": "NameError",
     "evalue": "name 'df_store' is not defined",
     "output_type": "error",
     "traceback": [
      "\u001b[1;31m---------------------------------------------------------------------------\u001b[0m",
      "\u001b[1;31mNameError\u001b[0m                                 Traceback (most recent call last)",
      "\u001b[1;32m~\\AppData\\Local\\Temp\\ipykernel_27280\\950624140.py\u001b[0m in \u001b[0;36m<module>\u001b[1;34m\u001b[0m\n\u001b[0;32m      1\u001b[0m \u001b[1;31m##Check the data type of a column in a dataframe\u001b[0m\u001b[1;33m\u001b[0m\u001b[1;33m\u001b[0m\u001b[0m\n\u001b[1;32m----> 2\u001b[1;33m \u001b[0mdf_store\u001b[0m\u001b[1;33m[\u001b[0m\u001b[1;34m'SALES_AREA_SIZE_NUM'\u001b[0m\u001b[1;33m]\u001b[0m\u001b[1;33m.\u001b[0m\u001b[0mdtypes\u001b[0m\u001b[1;33m\u001b[0m\u001b[1;33m\u001b[0m\u001b[0m\n\u001b[0m",
      "\u001b[1;31mNameError\u001b[0m: name 'df_store' is not defined"
     ]
    }
   ],
   "source": [
    "##Check the data type of a column in a dataframe\n",
    "df_store['SALES_AREA_SIZE_NUM'].dtypes"
   ]
  },
  {
   "cell_type": "markdown",
   "id": "067670cf",
   "metadata": {},
   "source": [
    "### 1. Numeric data Types"
   ]
  },
  {
   "cell_type": "code",
   "execution_count": 91,
   "id": "4e9d643b",
   "metadata": {},
   "outputs": [
    {
     "name": "stdout",
     "output_type": "stream",
     "text": [
      "<class 'int'>\n",
      "<class 'float'>\n",
      "<class 'complex'>\n"
     ]
    }
   ],
   "source": [
    "##Numeric \n",
    "\n",
    "a=5\n",
    "b=4.5\n",
    "c=2+4j\n",
    "print(type(a))\n",
    "print(type(b))\n",
    "print(type(c))\n"
   ]
  },
  {
   "cell_type": "markdown",
   "id": "e1718789",
   "metadata": {},
   "source": [
    "### 2. Character data Types"
   ]
  },
  {
   "cell_type": "code",
   "execution_count": 93,
   "id": "a4eb1776",
   "metadata": {},
   "outputs": [
    {
     "name": "stdout",
     "output_type": "stream",
     "text": [
      "Welcome to Python Training\n",
      "W\n"
     ]
    }
   ],
   "source": [
    "#Strings\n",
    "# Creating a String  \n",
    "String1 = 'Welcome to Python Training'\n",
    "print(String1) \n",
    "\n",
    "#Accesing a string\n",
    "#Printing First character \n",
    "print(String1[0]) "
   ]
  },
  {
   "cell_type": "markdown",
   "id": "8945f03c",
   "metadata": {},
   "source": [
    "### 3. Tuples"
   ]
  },
  {
   "cell_type": "code",
   "execution_count": 102,
   "id": "043cce6a",
   "metadata": {},
   "outputs": [
    {
     "name": "stdout",
     "output_type": "stream",
     "text": [
      "()\n",
      "('Hello', 'World')\n",
      "(1, 2, 4, 5, 6)\n",
      "('H', 'e', 'l', 'l', 'o')\n",
      "((0, 1, 2, 3), ('Hello', 'World'))\n",
      "Hello\n"
     ]
    }
   ],
   "source": [
    "#Tuple\n",
    "    \n",
    "# Creating an empty tuple \n",
    "Tuple1 = () \n",
    "print (Tuple1) \n",
    "    \n",
    "# Creating a Tuple with the use of Strings \n",
    "Tuple2 = ('Hello', 'World') \n",
    "print(Tuple2) \n",
    "    \n",
    "# Creating a Tuple with the use of list \n",
    "list1 = [1, 2, 4, 5, 6] \n",
    "print(tuple(list1)) \n",
    "  \n",
    "# Creating a Tuple with the use of built-in function \n",
    "Tuple3 = tuple('Hello') \n",
    "print(Tuple3) \n",
    "  \n",
    "# Creating a Tuple with nested tuples \n",
    "Tuple5 = (0, 1, 2, 3) \n",
    "Tuple6 = ('Hello', 'World') \n",
    "Tuple4 = (Tuple5, Tuple6) \n",
    "print(Tuple4) \n",
    "\n",
    "#Accessing first element of tuple2\n",
    "print(Tuple2[0])"
   ]
  },
  {
   "cell_type": "markdown",
   "id": "c18db17f",
   "metadata": {},
   "source": [
    "### 4.Booleans"
   ]
  },
  {
   "cell_type": "code",
   "execution_count": 103,
   "id": "39cfc8a1",
   "metadata": {},
   "outputs": [
    {
     "name": "stdout",
     "output_type": "stream",
     "text": [
      "<class 'bool'>\n",
      "<class 'bool'>\n"
     ]
    }
   ],
   "source": [
    "#Boolean\n",
    "\n",
    "#Checking the type of True and False\n",
    "print(type(True))\n",
    "print(type(False))\n"
   ]
  },
  {
   "cell_type": "markdown",
   "id": "538893ee",
   "metadata": {},
   "source": [
    "### 5.Sets"
   ]
  },
  {
   "cell_type": "code",
   "execution_count": 109,
   "id": "1cf5c7e0",
   "metadata": {},
   "outputs": [
    {
     "name": "stdout",
     "output_type": "stream",
     "text": [
      "set()\n",
      "{'l', ' ', 'r', 'e', 'd', 'W', 'H', 'o'}\n",
      "{'World', 'Hello'}\n",
      "{1, 2, 4, 6, (2+4j), 'World', 'Hello'}\n",
      "\n",
      "Elements of set: \n",
      "1 2 4 6 (2+4j) World Hello \n",
      "Using in keyword\n",
      "True\n"
     ]
    }
   ],
   "source": [
    "#Set\n",
    "#Creating an empty Set \n",
    "set1 = set() \n",
    "print(set1) \n",
    "    \n",
    "# Creating a Set with  the use of a String \n",
    "set1 = set(\"Hello World\") \n",
    "print(set1) \n",
    "  \n",
    "# Creating a Set with the use of a List \n",
    "set2 = set([\"Hello\", \"World\"]) \n",
    "print(set2) \n",
    "  \n",
    "# Creating a Set with different data types  \n",
    "set3 = set([1, 2, 'Hello', 4, 'World', 6, 2+4j, 'Hello']) \n",
    "print(set3) \n",
    "\n",
    "\n",
    "# Accessing element from set3 using for loop \n",
    "print(\"\\nElements of set: \") \n",
    "for i in set3: \n",
    "    print(i, end =\" \") \n",
    "    \n",
    "# Checking the element from set3 using in keyword \n",
    "print('\\nUsing in keyword')\n",
    "print(\"Hello\" in set3) "
   ]
  },
  {
   "cell_type": "markdown",
   "id": "70501726",
   "metadata": {},
   "source": [
    "### 6.Dictionary"
   ]
  },
  {
   "cell_type": "code",
   "execution_count": 111,
   "id": "5b27dd61",
   "metadata": {},
   "outputs": [
    {
     "name": "stdout",
     "output_type": "stream",
     "text": [
      "{}\n",
      "{1: 'Hello', 2: 'World'}\n",
      "{'Name': 'John', 1: [1, 2, 3, 4]}\n",
      "{1: 'Hello', 2: 'World'}\n",
      "{1: 'Hello', 2: 'World'}\n"
     ]
    }
   ],
   "source": [
    "#Dictionary\n",
    "\n",
    "# Creating an empty Dictionary \n",
    "Dict = {} \n",
    "print(Dict) \n",
    "    \n",
    "# Creating a Dictionary with Integer Keys \n",
    "Dict1 = {1: 'Hello', 2: 'World'} \n",
    "print(Dict1) \n",
    "    \n",
    "# Creating a Dictionary with keys of different data types \n",
    "Dict2 = {'Name': 'John', 1: [1, 2, 3, 4]} \n",
    "print(Dict2) \n",
    "    \n",
    "# Creating a Dictionary with dict() method \n",
    "Dict3 = dict({1: 'Hello', 2: 'World'}) \n",
    "print(Dict3) \n",
    "    \n",
    "# Creating a Dictionary with each item as a Pair \n",
    "Dict4 = dict([(1, 'Hello'), (2, 'World')]) \n",
    "print(Dict4) "
   ]
  },
  {
   "cell_type": "markdown",
   "id": "4836c3b9",
   "metadata": {},
   "source": [
    "### 7.Lists"
   ]
  },
  {
   "cell_type": "code",
   "execution_count": 50,
   "id": "40aba1da",
   "metadata": {},
   "outputs": [
    {
     "name": "stdout",
     "output_type": "stream",
     "text": [
      "[]\n",
      "['Welcome to Python Training', 0, 4.5, (2+4j)]\n",
      "[['Hello', 'World'], ['Hello']]\n"
     ]
    }
   ],
   "source": [
    "#Lists\n",
    "# Creating a blank List \n",
    "List1 = [] \n",
    "print(List1) \n",
    "    \n",
    "# Creating a List with multiple datatype  \n",
    "List2 = ['Welcome to Python Training', 0, 4.5, 2+4j] \n",
    "print(List2) \n",
    "    \n",
    "# Creating a Multi-Dimensional List \n",
    "# (By Nesting a list inside a List) \n",
    "List3 = [['Hello', 'World'], ['Hello']] \n",
    "print(List3) \n"
   ]
  },
  {
   "cell_type": "markdown",
   "id": "3fdd101f",
   "metadata": {},
   "source": [
    "List slicing/filtering"
   ]
  },
  {
   "cell_type": "code",
   "execution_count": 51,
   "id": "8bc7c14c",
   "metadata": {},
   "outputs": [
    {
     "name": "stdout",
     "output_type": "stream",
     "text": [
      "['o', 'g', 'r']\n",
      "['a', 'm', 'i', 'z']\n",
      "['p', 'r', 'o', 'g', 'r', 'a', 'm', 'i', 'z']\n"
     ]
    }
   ],
   "source": [
    "# List slicing in Python\n",
    "\n",
    "my_list = ['p','r','o','g','r','a','m','i','z']\n",
    "\n",
    "# elements from index 2 to index 4 (inside the square brackets, start number is included but the stop number is excluded)\n",
    "print(my_list[2:5])\n",
    "\n",
    "# elements from index 5 to end\n",
    "print(my_list[5:])\n",
    "\n",
    "# elements beginning to end\n",
    "print(my_list[:])"
   ]
  },
  {
   "cell_type": "markdown",
   "id": "b7ef6575",
   "metadata": {},
   "source": [
    "Change values in list"
   ]
  },
  {
   "cell_type": "code",
   "execution_count": 52,
   "id": "a7109b16",
   "metadata": {},
   "outputs": [
    {
     "name": "stdout",
     "output_type": "stream",
     "text": [
      "['p', 'r', 'o', 'g', 'r', 'a', 'm', 'i', 'z']\n",
      "[1, 2, 'o', 'g', 'r', 'a', 'm', 'i', 'z']\n"
     ]
    }
   ],
   "source": [
    "##Change values in a list\n",
    "\n",
    "print(my_list)\n",
    "\n",
    "#change the values at 0 and 1 index\n",
    "my_list[0:2] = [1,2]\n",
    "print(my_list)"
   ]
  },
  {
   "cell_type": "markdown",
   "id": "6c80859b",
   "metadata": {},
   "source": [
    "Adding elements in list"
   ]
  },
  {
   "cell_type": "code",
   "execution_count": 53,
   "id": "a74da50a",
   "metadata": {},
   "outputs": [
    {
     "name": "stdout",
     "output_type": "stream",
     "text": [
      "Initial list - \n",
      "[1, 2, 'o', 'g', 'r', 'a', 'm', 'i', 'z']\n",
      "\n",
      "Appending one element - \n",
      "[1, 2, 'o', 'g', 'r', 'a', 'm', 'i', 'z', 7]\n",
      "\n",
      "Appending multiple elements - \n",
      "[1, 2, 'o', 'g', 'r', 'a', 'm', 'i', 'z', 7, [3, 4]]\n"
     ]
    }
   ],
   "source": [
    "## adding new elements to a list\n",
    "\n",
    "#using append method - adds values to the end of the list - if only 1 element you want to add, then use append, \n",
    "#else append will create a nested list\n",
    "print(\"Initial list - \")\n",
    "print(my_list)\n",
    "\n",
    "my_list.append(7)\n",
    "print(\"\\nAppending one element - \")\n",
    "print(my_list)\n",
    "\n",
    "my_list.append([3,4])\n",
    "print(\"\\nAppending multiple elements - \")\n",
    "print(my_list)"
   ]
  },
  {
   "cell_type": "code",
   "execution_count": 54,
   "id": "d998d932",
   "metadata": {},
   "outputs": [
    {
     "name": "stdout",
     "output_type": "stream",
     "text": [
      "\n",
      "Extending one element - \n",
      "[1, 2, 'o', 'g', 'r', 'a', 'm', 'i', 'z', 7, [3, 4], 5]\n",
      "\n",
      "Extending multiple elements - \n",
      "[1, 2, 'o', 'g', 'r', 'a', 'm', 'i', 'z', 7, [3, 4], 5, 6, 8]\n"
     ]
    }
   ],
   "source": [
    "#using extend method - add values to the end of the list\n",
    "\n",
    "my_list.extend([5])\n",
    "print(\"\\nExtending one element - \")\n",
    "print(my_list)\n",
    "\n",
    "my_list.extend([6,8])\n",
    "print(\"\\nExtending multiple elements - \")\n",
    "print(my_list)\n"
   ]
  },
  {
   "cell_type": "code",
   "execution_count": 55,
   "id": "66aa57ef",
   "metadata": {},
   "outputs": [
    {
     "name": "stdout",
     "output_type": "stream",
     "text": [
      "[1, 2, 'o', 'g', 'r', 'a', 'm', 'i', 'z', 10, 7, [3, 4], 5, 6, 8]\n",
      "[1, 2, 11, 12, 'o', 'g', 'r', 'a', 'm', 'i', 'z', 10, 7, [3, 4], 5, 6, 8]\n"
     ]
    }
   ],
   "source": [
    "#using insert method - add values at whichever position you want. Example - insert 10 at 9th index\n",
    "\n",
    "my_list.insert(9,10)\n",
    "print(my_list)\n",
    "\n",
    "##insert 11 and 12 at 2nd index\n",
    "my_list[2:2] = [11,12]\n",
    "print(my_list)"
   ]
  },
  {
   "cell_type": "markdown",
   "id": "1dbf58c4",
   "metadata": {},
   "source": [
    "Accessing elements inside a list"
   ]
  },
  {
   "cell_type": "code",
   "execution_count": 56,
   "id": "a8fa1220",
   "metadata": {},
   "outputs": [
    {
     "name": "stdout",
     "output_type": "stream",
     "text": [
      "Accessing an element from the list\n",
      "11\n",
      "\n",
      "Accessing elements from the nested list\n",
      "4\n",
      "\n",
      "Accessing last item\n",
      "8\n",
      "\n",
      "Accessing last fourth item\n",
      "[3, 4]\n"
     ]
    }
   ],
   "source": [
    "print(\"Accessing an element from the list\")\n",
    "print(my_list[2])\n",
    "\n",
    "print(\"\\nAccessing elements from the nested list\")\n",
    "print(my_list[13][1])\n",
    "\n",
    "print(\"\\nAccessing last item\")\n",
    "print(my_list[-1])\n",
    "\n",
    "print(\"\\nAccessing last fourth item\")\n",
    "print(my_list[-4])"
   ]
  },
  {
   "cell_type": "markdown",
   "id": "c714fd9f",
   "metadata": {},
   "source": [
    "Delete list elements"
   ]
  },
  {
   "cell_type": "code",
   "execution_count": 57,
   "id": "ffdb358f",
   "metadata": {},
   "outputs": [
    {
     "name": "stdout",
     "output_type": "stream",
     "text": [
      "Deleting one element - \n",
      "[1, 2, 12, 'o', 'g', 'r', 'a', 'm', 'i', 'z', 10, 7, [3, 4], 5, 6, 8]\n",
      "\n",
      "Deleting multiple elements\n",
      "[1, 'r', 'a', 'm', 'i', 'z', 10, 7, [3, 4], 5, 6, 8]\n",
      "\n",
      "Deleting List1\n",
      "[]\n"
     ]
    }
   ],
   "source": [
    "# Deleting list items\n",
    "\n",
    "# delete one item\n",
    "print(\"Deleting one element - \")\n",
    "del my_list[2]\n",
    "print(my_list)\n",
    "\n",
    "# delete multiple items\n",
    "print(\"\\nDeleting multiple elements\")\n",
    "del my_list[1:5]\n",
    "print(my_list)\n",
    "\n",
    "# delete the entire list\n",
    "print(\"\\nDeleting List1\")\n",
    "print(List1)\n",
    "del List1"
   ]
  },
  {
   "cell_type": "code",
   "execution_count": 58,
   "id": "4c4d1c4c",
   "metadata": {},
   "outputs": [
    {
     "ename": "NameError",
     "evalue": "name 'List1' is not defined",
     "output_type": "error",
     "traceback": [
      "\u001b[1;31m---------------------------------------------------------------------------\u001b[0m",
      "\u001b[1;31mNameError\u001b[0m                                 Traceback (most recent call last)",
      "\u001b[1;32m<ipython-input-58-893d28fd7d38>\u001b[0m in \u001b[0;36m<module>\u001b[1;34m\u001b[0m\n\u001b[0;32m      1\u001b[0m \u001b[1;31m# Error: List not defined\u001b[0m\u001b[1;33m\u001b[0m\u001b[1;33m\u001b[0m\u001b[1;33m\u001b[0m\u001b[0m\n\u001b[1;32m----> 2\u001b[1;33m \u001b[0mprint\u001b[0m\u001b[1;33m(\u001b[0m\u001b[0mList1\u001b[0m\u001b[1;33m)\u001b[0m\u001b[1;33m\u001b[0m\u001b[1;33m\u001b[0m\u001b[0m\n\u001b[0m",
      "\u001b[1;31mNameError\u001b[0m: name 'List1' is not defined"
     ]
    }
   ],
   "source": [
    "# Error: List not defined\n",
    "print(List1)"
   ]
  },
  {
   "cell_type": "code",
   "execution_count": 59,
   "id": "2b08f67e",
   "metadata": {},
   "outputs": [
    {
     "name": "stdout",
     "output_type": "stream",
     "text": [
      "\n",
      "Remove element 'm' from list\n",
      "[1, 'r', 'a', 'i', 'z', 10, 7, [3, 4], 5, 6, 8]\n"
     ]
    }
   ],
   "source": [
    "##using remove method - specify the element that you want to delete\n",
    "print(\"\\nRemove element 'm' from list\")\n",
    "my_list.remove('m')\n",
    "print(my_list)"
   ]
  },
  {
   "cell_type": "code",
   "execution_count": 60,
   "id": "f0e6e6bc",
   "metadata": {},
   "outputs": [
    {
     "name": "stdout",
     "output_type": "stream",
     "text": [
      "\n",
      "Remove element at index 5\n",
      "10\n"
     ]
    }
   ],
   "source": [
    "##using pop method - specify the index from where you want to delete the element\n",
    "print(\"\\nRemove element at index 5\")\n",
    "print(my_list.pop(5))"
   ]
  },
  {
   "cell_type": "code",
   "execution_count": 61,
   "id": "bb021b5b",
   "metadata": {},
   "outputs": [
    {
     "name": "stdout",
     "output_type": "stream",
     "text": [
      "[1, 'r', 'a', 'i', 'z', 7, [3, 4], 5, 6, 8]\n"
     ]
    }
   ],
   "source": [
    "print(my_list)"
   ]
  },
  {
   "cell_type": "code",
   "execution_count": 62,
   "id": "1fce2b71",
   "metadata": {},
   "outputs": [
    {
     "name": "stdout",
     "output_type": "stream",
     "text": [
      "\n",
      "Removing elements at index 2 and 3 \n",
      "[1, 'r', 'z', 7, [3, 4], 5, 6, 8]\n"
     ]
    }
   ],
   "source": [
    "##delete elements by assigning an empty list to the slice of elements\n",
    "\n",
    "print(\"\\nRemoving elements at index 2 and 3 \")\n",
    "my_list[2:4] = []\n",
    "print(my_list)"
   ]
  },
  {
   "cell_type": "code",
   "execution_count": 64,
   "id": "70ae8253",
   "metadata": {},
   "outputs": [
    {
     "name": "stdout",
     "output_type": "stream",
     "text": [
      "[]\n"
     ]
    }
   ],
   "source": [
    "##Empty the entire list\n",
    "my_list.clear()\n",
    "print(my_list)"
   ]
  },
  {
   "cell_type": "markdown",
   "id": "1f85b3f2",
   "metadata": {},
   "source": [
    "Check the count of elements in a list"
   ]
  },
  {
   "cell_type": "code",
   "execution_count": 71,
   "id": "eae0bb0d",
   "metadata": {},
   "outputs": [
    {
     "name": "stdout",
     "output_type": "stream",
     "text": [
      "\n",
      "check the count of 2 \n",
      "3\n",
      "\n",
      "check count of ('a','b') & a \n",
      "2\n",
      "1\n"
     ]
    }
   ],
   "source": [
    "numbers = [2, 3, 5, 2, 11, 2, 7]\n",
    "\n",
    "print(\"\\ncheck the count of 2 \")\n",
    "print(numbers.count(2))\n",
    "\n",
    "\n",
    "random = ['a', ('a', 'b'), ('a', 'b'), [3, 4]]\n",
    "\n",
    "print(\"\\ncheck count of ('a','b') & a \")\n",
    "print(random.count(('a', 'b')))\n",
    "print(random.count('a'))\n",
    "      "
   ]
  },
  {
   "cell_type": "markdown",
   "id": "8d219cd3",
   "metadata": {},
   "source": [
    "sort a list"
   ]
  },
  {
   "cell_type": "code",
   "execution_count": 75,
   "id": "1f9403a2",
   "metadata": {},
   "outputs": [
    {
     "name": "stdout",
     "output_type": "stream",
     "text": [
      "Sorting in ascending order\n",
      "[2, 2, 2, 3, 5, 7, 11]\n",
      "\n",
      "Sorting in descending order\n",
      "[11, 7, 5, 3, 2, 2, 2]\n"
     ]
    }
   ],
   "source": [
    "# sorting the list in ascending order\n",
    "\n",
    "#using sort() - it sorts the list but does not return anything\n",
    "print(\"Sorting in ascending order\")\n",
    "numbers.sort()\n",
    "print(numbers)\n",
    "\n",
    "\n",
    "print(\"\\nSorting in descending order\")\n",
    "numbers.sort(reverse = True)\n",
    "print(numbers)\n"
   ]
  },
  {
   "cell_type": "code",
   "execution_count": 81,
   "id": "0af70cb8",
   "metadata": {},
   "outputs": [
    {
     "name": "stdout",
     "output_type": "stream",
     "text": [
      "\n",
      "original list\n",
      "[2, 3, 5, 2, 11, 2, 7]\n",
      "\n",
      "Sort list in ascending order\n"
     ]
    },
    {
     "data": {
      "text/plain": [
       "[2, 2, 2, 3, 5, 7, 11]"
      ]
     },
     "execution_count": 81,
     "metadata": {},
     "output_type": "execute_result"
    }
   ],
   "source": [
    "#using sorted()  - it sorts and returs the sorted list\n",
    "print('\\noriginal list')\n",
    "numbers = [2, 3, 5, 2, 11, 2, 7]\n",
    "print(numbers)\n",
    "\n",
    "#Sort list in ascending order\n",
    "print(\"\\nSort list in ascending order\")\n",
    "sorted(numbers)"
   ]
  },
  {
   "cell_type": "code",
   "execution_count": 82,
   "id": "25b390be",
   "metadata": {},
   "outputs": [
    {
     "name": "stdout",
     "output_type": "stream",
     "text": [
      "\n",
      "Sort list in descending order\n"
     ]
    },
    {
     "data": {
      "text/plain": [
       "[11, 7, 5, 3, 2, 2, 2]"
      ]
     },
     "execution_count": 82,
     "metadata": {},
     "output_type": "execute_result"
    }
   ],
   "source": [
    "#Sort list in descending order\n",
    "print(\"\\nSort list in descending order\")\n",
    "sorted(numbers, reverse = True)"
   ]
  },
  {
   "cell_type": "code",
   "execution_count": 91,
   "id": "9531b84b",
   "metadata": {},
   "outputs": [
    {
     "name": "stdout",
     "output_type": "stream",
     "text": [
      "Concatenation of two lists \n",
      "[1, 2, 3, 4, 3, 5, 6, 7]\n",
      "\n",
      "Difference of two lists\n",
      "[1, 2, 4]\n"
     ]
    }
   ],
   "source": [
    "#Concatenation and difference of two lists - (difference = if you want to find elements present in one list and absent from another)\n",
    "List1 = [1,2,3,4]\n",
    "List2 = [3,5,6,7]\n",
    "\n",
    "print(\"Concatenation of two lists \")\n",
    "List3 = List1+List2\n",
    "print(List3)\n",
    "\n",
    "print(\"\\nDifference of two lists\")\n",
    "List4 = list(set(List1)-set(List2))\n",
    "print(List4)"
   ]
  },
  {
   "cell_type": "markdown",
   "id": "f4afc808",
   "metadata": {},
   "source": [
    "Convert a tuple into list"
   ]
  },
  {
   "cell_type": "code",
   "execution_count": 94,
   "id": "5884f100",
   "metadata": {},
   "outputs": [
    {
     "name": "stdout",
     "output_type": "stream",
     "text": [
      "<class 'tuple'>\n",
      "<class 'list'>\n"
     ]
    }
   ],
   "source": [
    "tup1 = (1,2,3,4)\n",
    "print(type(tup1))\n",
    "\n",
    "list1 = list(tup1)\n",
    "print(type(list1))"
   ]
  },
  {
   "cell_type": "markdown",
   "id": "255ec48a",
   "metadata": {},
   "source": [
    "Looping the lists"
   ]
  },
  {
   "cell_type": "code",
   "execution_count": 101,
   "id": "18511bfa",
   "metadata": {},
   "outputs": [
    {
     "name": "stdout",
     "output_type": "stream",
     "text": [
      "['banana', 'cherry', 'kiwi', 'mango']\n"
     ]
    }
   ],
   "source": [
    "newlist1=[]\n",
    "fruits = [\"apple\", \"banana\", \"cherry\", \"kiwi\", \"mango\"]\n",
    "for x in fruits:\n",
    "    if \"apple\" not in x:\n",
    "        newlist1.append(x)\n",
    "\n",
    "print(newlist1)"
   ]
  },
  {
   "cell_type": "markdown",
   "id": "5ad4eb18",
   "metadata": {},
   "source": [
    "List Comprehension"
   ]
  },
  {
   "cell_type": "code",
   "execution_count": 102,
   "id": "9eeb1ced",
   "metadata": {},
   "outputs": [
    {
     "name": "stdout",
     "output_type": "stream",
     "text": [
      "['banana', 'cherry', 'kiwi', 'mango']\n"
     ]
    }
   ],
   "source": [
    "#Instead of using Loop you can complete a task in a asingle line of code \n",
    "fruits = [\"apple\", \"banana\", \"cherry\", \"kiwi\", \"mango\"]\n",
    "newlist = [x for x in fruits if x!='apple']\n",
    "print(newlist)"
   ]
  },
  {
   "cell_type": "markdown",
   "id": "f1f922bb",
   "metadata": {},
   "source": [
    "Array"
   ]
  },
  {
   "cell_type": "code",
   "execution_count": 111,
   "id": "03618235",
   "metadata": {},
   "outputs": [
    {
     "name": "stdout",
     "output_type": "stream",
     "text": [
      "<class 'numpy.ndarray'>\n",
      "[1.+0.j 3.+0.j 2.+3.j]\n"
     ]
    }
   ],
   "source": [
    "import numpy as np\n",
    "a = np.array([1,3,2+3j])\n",
    "print(type(a))\n",
    "print(a)"
   ]
  },
  {
   "cell_type": "code",
   "execution_count": 113,
   "id": "86635c65",
   "metadata": {},
   "outputs": [
    {
     "data": {
      "text/plain": [
       "(3+0j)"
      ]
     },
     "execution_count": 113,
     "metadata": {},
     "output_type": "execute_result"
    }
   ],
   "source": [
    "a[1]"
   ]
  },
  {
   "cell_type": "markdown",
   "id": "e58e83eb",
   "metadata": {},
   "source": [
    "Series"
   ]
  },
  {
   "cell_type": "code",
   "execution_count": 122,
   "id": "5138f342",
   "metadata": {},
   "outputs": [
    {
     "name": "stdout",
     "output_type": "stream",
     "text": [
      "0    1\n",
      "1    a\n",
      "2    3\n",
      "dtype: object\n"
     ]
    }
   ],
   "source": [
    "list1 = [1,'a',3]\n",
    "ser = pd.Series(list1)\n",
    "print(ser)"
   ]
  },
  {
   "cell_type": "code",
   "execution_count": 128,
   "id": "223a8108",
   "metadata": {},
   "outputs": [
    {
     "data": {
      "text/plain": [
       "int"
      ]
     },
     "execution_count": 128,
     "metadata": {},
     "output_type": "execute_result"
    }
   ],
   "source": [
    "type(ser[2])"
   ]
  }
 ],
 "metadata": {
  "kernelspec": {
   "display_name": "Python 3 (ipykernel)",
   "language": "python",
   "name": "python3"
  },
  "language_info": {
   "codemirror_mode": {
    "name": "ipython",
    "version": 3
   },
   "file_extension": ".py",
   "mimetype": "text/x-python",
   "name": "python",
   "nbconvert_exporter": "python",
   "pygments_lexer": "ipython3",
   "version": "3.9.13"
  }
 },
 "nbformat": 4,
 "nbformat_minor": 5
}
