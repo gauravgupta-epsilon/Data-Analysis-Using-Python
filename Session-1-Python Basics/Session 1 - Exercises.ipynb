{
 "cells": [
  {
   "cell_type": "markdown",
   "metadata": {},
   "source": [
    "# PYTHON DATA TYPES"
   ]
  },
  {
   "cell_type": "markdown",
   "metadata": {},
   "source": [
    "**Sample questions and answers of python expressions,variables , strings, lists and tuples, objects and classes, and python standard library.**"
   ]
  },
  {
   "cell_type": "markdown",
   "metadata": {},
   "source": [
    "Q.1"
   ]
  },
  {
   "cell_type": "markdown",
   "metadata": {},
   "source": [
    "Write Python algebraic expressions corresponding to the following statements:"
   ]
  },
  {
   "cell_type": "markdown",
   "metadata": {},
   "source": [
    "(a) The sum of the first five positive integers"
   ]
  },
  {
   "cell_type": "markdown",
   "metadata": {},
   "source": [
    "(b) The average age of Sara (age 23), Mark (age 19), and Fatima (age 31)"
   ]
  },
  {
   "cell_type": "markdown",
   "metadata": {},
   "source": [
    "(c) The number of times 73 goes into 403"
   ]
  },
  {
   "cell_type": "markdown",
   "metadata": {},
   "source": [
    "(d) The remainder when 403 is divided by 73"
   ]
  },
  {
   "cell_type": "markdown",
   "metadata": {},
   "source": [
    "(e) 2 to the 10th power"
   ]
  },
  {
   "cell_type": "markdown",
   "metadata": {},
   "source": [
    "Q.2"
   ]
  },
  {
   "cell_type": "markdown",
   "metadata": {},
   "source": [
    "Translate the following statements into Python Boolean expressions and evaluate them:"
   ]
  },
  {
   "cell_type": "markdown",
   "metadata": {},
   "source": [
    "(a) The sum of 2 and 2 is less than 4."
   ]
  },
  {
   "cell_type": "markdown",
   "metadata": {},
   "source": [
    "(b) The value of 7 // 3 is equal to 1 + 1."
   ]
  },
  {
   "cell_type": "markdown",
   "metadata": {},
   "source": [
    "(c) The sum of 3 squared and 4 squared is equal to 25."
   ]
  },
  {
   "cell_type": "markdown",
   "metadata": {},
   "source": [
    "(d) The sum of 2, 4, and 6 is greater than 12."
   ]
  },
  {
   "cell_type": "markdown",
   "metadata": {},
   "source": [
    "(e) 1387 is divisible by 19."
   ]
  },
  {
   "cell_type": "markdown",
   "metadata": {},
   "source": [
    "(f) 31 is even."
   ]
  },
  {
   "cell_type": "markdown",
   "metadata": {},
   "source": [
    "(g) The lowest price among $34.99, $29.95, and $31.50 is less than $30.00."
   ]
  },
  {
   "cell_type": "markdown",
   "metadata": {},
   "source": [
    "Q.3"
   ]
  },
  {
   "cell_type": "markdown",
   "metadata": {},
   "source": [
    "Write Python statements that correspond to the actions below and execute them:"
   ]
  },
  {
   "cell_type": "markdown",
   "metadata": {},
   "source": [
    "(a) Assign integer value 3 to variable a.\n",
    "(b) Assign 4 to variable b.\n",
    "(c) Assign to variable c the value of expression a * a + b * b."
   ]
  },
  {
   "cell_type": "markdown",
   "metadata": {},
   "source": [
    "Q.4"
   ]
  },
  {
   "cell_type": "markdown",
   "metadata": {},
   "source": [
    "Start by executing the assignment statements:\n",
    "s1 = 'ant'\n",
    "s2 = 'bat'\n",
    "s3 = 'cod'"
   ]
  },
  {
   "cell_type": "markdown",
   "metadata": {},
   "source": [
    "Write Python expressions using s1, s2, and s3 and operators + and * that evaluate to:"
   ]
  },
  {
   "cell_type": "markdown",
   "metadata": {},
   "source": [
    "(a) 'ant bat cod'"
   ]
  },
  {
   "cell_type": "markdown",
   "metadata": {},
   "source": [
    "Q.5"
   ]
  },
  {
   "cell_type": "markdown",
   "metadata": {},
   "source": [
    "Start by executing the assignment:\n",
    "s = '0123456789'"
   ]
  },
  {
   "cell_type": "markdown",
   "metadata": {},
   "source": [
    "Now write expressions using string s and the indexing operator that evaluate to:\n",
    "(a) '0'\n",
    "(b) '1'\n",
    "(c) '6'\n",
    "(d) '8'\n",
    "(e) '9'"
   ]
  },
  {
   "cell_type": "markdown",
   "metadata": {},
   "source": [
    "Q.6"
   ]
  },
  {
   "cell_type": "markdown",
   "metadata": {},
   "source": [
    "First execute the assignment\n",
    "words = ['bat', 'ball', 'barn', 'basket', 'badminton']\n",
    "Now write two Python expressions that evaluate to the first and last, respectively, word in\n",
    "words, in dictionary order."
   ]
  },
  {
   "cell_type": "markdown",
   "metadata": {},
   "source": [
    "Q.7"
   ]
  },
  {
   "cell_type": "markdown",
   "metadata": {},
   "source": [
    "Given the list of student homework grades\n"
   ]
  },
  {
   "cell_type": "code",
   "execution_count": 33,
   "metadata": {
    "execution": {
     "iopub.execute_input": "2021-09-04T15:41:32.912376Z",
     "iopub.status.busy": "2021-09-04T15:41:32.911973Z",
     "iopub.status.idle": "2021-09-04T15:41:32.917514Z",
     "shell.execute_reply": "2021-09-04T15:41:32.916457Z",
     "shell.execute_reply.started": "2021-09-04T15:41:32.912339Z"
    }
   },
   "outputs": [],
   "source": [
    "grades = [9, 7, 7, 10, 3, 9, 6, 6, 2]"
   ]
  },
  {
   "cell_type": "markdown",
   "metadata": {},
   "source": [
    "(a) An expression that counts number of 7 grades"
   ]
  },
  {
   "cell_type": "markdown",
   "metadata": {},
   "source": [
    "(b) A statement that changes the last grade to 4"
   ]
  },
  {
   "cell_type": "markdown",
   "metadata": {},
   "source": [
    "(c) An expression that evaluates to the maximum grade"
   ]
  },
  {
   "cell_type": "markdown",
   "metadata": {},
   "source": [
    "(d) A statement that sorts the list grades"
   ]
  },
  {
   "cell_type": "markdown",
   "metadata": {},
   "source": [
    "(e) An expression that evaluates to the average grade"
   ]
  },
  {
   "cell_type": "markdown",
   "metadata": {},
   "source": [
    "Q.8"
   ]
  },
  {
   "cell_type": "markdown",
   "metadata": {},
   "source": [
    "What is the type of the object that these expressions evaluate to?"
   ]
  },
  {
   "cell_type": "code",
   "execution_count": 43,
   "metadata": {
    "execution": {
     "iopub.execute_input": "2021-09-04T15:44:07.408520Z",
     "iopub.status.busy": "2021-09-04T15:44:07.408003Z",
     "iopub.status.idle": "2021-09-04T15:44:07.415824Z",
     "shell.execute_reply": "2021-09-04T15:44:07.414744Z",
     "shell.execute_reply.started": "2021-09-04T15:44:07.408485Z"
    }
   },
   "outputs": [
    {
     "data": {
      "text/plain": [
       "0"
      ]
     },
     "execution_count": 43,
     "metadata": {},
     "output_type": "execute_result"
    }
   ],
   "source": [
    "False + False"
   ]
  },
  {
   "cell_type": "code",
   "execution_count": 45,
   "metadata": {
    "execution": {
     "iopub.execute_input": "2021-09-04T15:44:10.324613Z",
     "iopub.status.busy": "2021-09-04T15:44:10.324054Z",
     "iopub.status.idle": "2021-09-04T15:44:10.331497Z",
     "shell.execute_reply": "2021-09-04T15:44:10.330213Z",
     "shell.execute_reply.started": "2021-09-04T15:44:10.324576Z"
    }
   },
   "outputs": [
    {
     "data": {
      "text/plain": [
       "18.0"
      ]
     },
     "execution_count": 45,
     "metadata": {},
     "output_type": "execute_result"
    }
   ],
   "source": [
    "2 * 3**2.0"
   ]
  },
  {
   "cell_type": "code",
   "execution_count": 47,
   "metadata": {
    "execution": {
     "iopub.execute_input": "2021-09-04T15:44:12.995080Z",
     "iopub.status.busy": "2021-09-04T15:44:12.994680Z",
     "iopub.status.idle": "2021-09-04T15:44:13.001828Z",
     "shell.execute_reply": "2021-09-04T15:44:13.000755Z",
     "shell.execute_reply.started": "2021-09-04T15:44:12.995046Z"
    }
   },
   "outputs": [
    {
     "data": {
      "text/plain": [
       "2"
      ]
     },
     "execution_count": 47,
     "metadata": {},
     "output_type": "execute_result"
    }
   ],
   "source": [
    "4 // 2 + 4 % 2"
   ]
  },
  {
   "cell_type": "code",
   "execution_count": 49,
   "metadata": {
    "execution": {
     "iopub.execute_input": "2021-09-04T15:44:16.127189Z",
     "iopub.status.busy": "2021-09-04T15:44:16.126553Z",
     "iopub.status.idle": "2021-09-04T15:44:16.135559Z",
     "shell.execute_reply": "2021-09-04T15:44:16.134426Z",
     "shell.execute_reply.started": "2021-09-04T15:44:16.127142Z"
    }
   },
   "outputs": [
    {
     "data": {
      "text/plain": [
       "True"
      ]
     },
     "execution_count": 49,
     "metadata": {},
     "output_type": "execute_result"
    }
   ],
   "source": [
    "2 + 3 == 4 or 5 >= 5"
   ]
  },
  {
   "cell_type": "markdown",
   "metadata": {},
   "source": [
    "Q.9"
   ]
  },
  {
   "cell_type": "markdown",
   "metadata": {},
   "source": [
    "Write Python expressions corresponding to these statements:"
   ]
  },
  {
   "cell_type": "markdown",
   "metadata": {},
   "source": [
    "(a) The sum of negative integers −7 through −1"
   ]
  },
  {
   "cell_type": "markdown",
   "metadata": {},
   "source": [
    "(b) The average age of a group of kids at a summer camp given than 17 are 9 years old,\n",
    "24 are 10 years old, 21 are 11 years old, and 27 are 12 years old"
   ]
  },
  {
   "cell_type": "markdown",
   "metadata": {},
   "source": [
    "(c) 2 to the power −20"
   ]
  },
  {
   "cell_type": "markdown",
   "metadata": {},
   "source": [
    "(d) The number of times 61 goes into 4356"
   ]
  },
  {
   "cell_type": "markdown",
   "metadata": {},
   "source": [
    "(e) The remainder when 4365 is divided by 61"
   ]
  },
  {
   "cell_type": "markdown",
   "metadata": {},
   "source": [
    "Q.10"
   ]
  },
  {
   "cell_type": "markdown",
   "metadata": {},
   "source": [
    "Start by running, in the shell, the following assignment statement:\n",
    "s = 'abcdefghijklmnopqrstuvwxyz'\n",
    "Now write expressions using string s and the indexing operator that evaluate to 'a', 'c',\n",
    "'z', 'y', and 'q'."
   ]
  },
  {
   "cell_type": "code",
   "execution_count": 68,
   "metadata": {
    "execution": {
     "iopub.execute_input": "2021-09-04T15:47:59.258484Z",
     "iopub.status.busy": "2021-09-04T15:47:59.257935Z",
     "iopub.status.idle": "2021-09-04T15:47:59.262003Z",
     "shell.execute_reply": "2021-09-04T15:47:59.261215Z",
     "shell.execute_reply.started": "2021-09-04T15:47:59.258449Z"
    }
   },
   "outputs": [],
   "source": [
    "s = 'abcdefghijklmnopqrstuvwxyz'"
   ]
  },
  {
   "cell_type": "markdown",
   "metadata": {},
   "source": [
    "Q.11"
   ]
  },
  {
   "cell_type": "markdown",
   "metadata": {},
   "source": [
    "Start by executing\n",
    "s = 'goodbye'\n",
    "Then write a Boolean expression that checks whether:"
   ]
  },
  {
   "cell_type": "code",
   "execution_count": 74,
   "metadata": {
    "execution": {
     "iopub.execute_input": "2021-09-04T15:48:10.636668Z",
     "iopub.status.busy": "2021-09-04T15:48:10.636103Z",
     "iopub.status.idle": "2021-09-04T15:48:10.640796Z",
     "shell.execute_reply": "2021-09-04T15:48:10.639787Z",
     "shell.execute_reply.started": "2021-09-04T15:48:10.636633Z"
    }
   },
   "outputs": [],
   "source": [
    "s = 'goodbye'"
   ]
  },
  {
   "cell_type": "markdown",
   "metadata": {},
   "source": [
    "(a) The first character of string s is 'g'"
   ]
  },
  {
   "cell_type": "markdown",
   "metadata": {},
   "source": [
    "(b) The seventh character of s is 'g'"
   ]
  },
  {
   "cell_type": "markdown",
   "metadata": {},
   "source": [
    "(c) The first two characters of s are 'g' and 'a'"
   ]
  },
  {
   "cell_type": "markdown",
   "metadata": {},
   "source": [
    "(d) The next to last character of s is 'x'"
   ]
  },
  {
   "cell_type": "markdown",
   "metadata": {},
   "source": [
    "(e) The middle character of s is 'd'"
   ]
  },
  {
   "cell_type": "markdown",
   "metadata": {},
   "source": [
    "(f) The first and last characters of string s are equal"
   ]
  },
  {
   "cell_type": "markdown",
   "metadata": {},
   "source": [
    "(g) The last four characters of string s match the string 'tion'"
   ]
  },
  {
   "cell_type": "markdown",
   "metadata": {},
   "source": [
    "Q.12"
   ]
  },
  {
   "cell_type": "markdown",
   "metadata": {},
   "source": [
    "Write the corresponding Python assignment statements:"
   ]
  },
  {
   "cell_type": "markdown",
   "metadata": {},
   "source": [
    "(a) Assign 6 to variable a and 7 to variable b."
   ]
  },
  {
   "cell_type": "markdown",
   "metadata": {},
   "source": [
    "(b) Assign to variable c the average of variables a and b."
   ]
  },
  {
   "cell_type": "markdown",
   "metadata": {},
   "source": [
    "(c) Assign to variable inventory the list containing strings 'paper', 'staples', and\n",
    "'pencils'."
   ]
  },
  {
   "cell_type": "markdown",
   "metadata": {},
   "source": [
    "(d) Assign to variables first, middle and last the strings 'John', 'Fitzgerald',\n",
    "and 'Kennedy'."
   ]
  },
  {
   "cell_type": "markdown",
   "metadata": {},
   "source": [
    "(e) Assign to variable fullname the concatenation of string variables first, middle,\n",
    "and last. Make sure you incorporate blank spaces appropriately."
   ]
  },
  {
   "cell_type": "markdown",
   "metadata": {},
   "source": [
    "Q.13"
   ]
  },
  {
   "cell_type": "markdown",
   "metadata": {},
   "source": [
    "write Boolean expressions corresponding to\n",
    "the following logical statements and evaluate the expressions:"
   ]
  },
  {
   "cell_type": "markdown",
   "metadata": {},
   "source": [
    "(a) The sum of 17 and −9 is less than 10."
   ]
  },
  {
   "cell_type": "markdown",
   "metadata": {},
   "source": [
    "(b) The length of list inventory is more than five times the length of string fullname."
   ]
  },
  {
   "cell_type": "markdown",
   "metadata": {},
   "source": [
    "(c) c is no more than 24."
   ]
  },
  {
   "cell_type": "markdown",
   "metadata": {},
   "source": [
    "(d) 6.75 is between the values of integers a and b."
   ]
  },
  {
   "cell_type": "markdown",
   "metadata": {},
   "source": [
    "(e) The length of string middle is larger than the length of string first and smaller than\n",
    "the length string last."
   ]
  },
  {
   "cell_type": "markdown",
   "metadata": {},
   "source": [
    "(f) Either the list inventory is empty or it has more than 10 objects in it."
   ]
  },
  {
   "cell_type": "markdown",
   "metadata": {},
   "source": [
    "Q.14"
   ]
  },
  {
   "cell_type": "markdown",
   "metadata": {},
   "source": [
    "Write Python statements corresponding to the following:"
   ]
  },
  {
   "cell_type": "markdown",
   "metadata": {},
   "source": [
    "(a) Assign to variable flowers a list containing strings 'rose', 'bougainvillea',\n",
    "'yucca', 'marigold', 'daylilly', and 'lilly of the valley'."
   ]
  },
  {
   "cell_type": "markdown",
   "metadata": {},
   "source": [
    "(b) Write a Boolean expression that evaluates to True if string 'potato' is in list flowers,\n",
    "and evaluate the expression."
   ]
  },
  {
   "cell_type": "markdown",
   "metadata": {},
   "source": [
    "(c) Assign to list thorny the sublist consisting of the first three objects in list flowers."
   ]
  },
  {
   "cell_type": "markdown",
   "metadata": {},
   "source": [
    "(d) Assign to list poisonous the sublist consisting of just the last object of list flowers."
   ]
  },
  {
   "cell_type": "markdown",
   "metadata": {},
   "source": [
    "(e) Assign to list dangerous the concatenation of lists thorny and poisonous."
   ]
  },
  {
   "cell_type": "markdown",
   "metadata": {},
   "source": [
    "Q.15"
   ]
  },
  {
   "cell_type": "markdown",
   "metadata": {},
   "source": [
    "Start by assigning to variable answers a list containing an arbitrary sequence of strings\n",
    "'Y' and 'N'."
   ]
  },
  {
   "cell_type": "code",
   "execution_count": 106,
   "metadata": {
    "execution": {
     "iopub.execute_input": "2021-09-04T15:49:44.806565Z",
     "iopub.status.busy": "2021-09-04T15:49:44.806170Z",
     "iopub.status.idle": "2021-09-04T15:49:44.811891Z",
     "shell.execute_reply": "2021-09-04T15:49:44.810628Z",
     "shell.execute_reply.started": "2021-09-04T15:49:44.806531Z"
    }
   },
   "outputs": [],
   "source": [
    "answers = ['Y', 'N', 'N', 'Y', 'N', 'Y', 'Y', 'Y', 'N', 'N', 'N']"
   ]
  },
  {
   "cell_type": "markdown",
   "metadata": {},
   "source": [
    "Write Python statements corresponding to the following:"
   ]
  },
  {
   "cell_type": "markdown",
   "metadata": {},
   "source": [
    "(a) Assign to variable numYes the number of occurrences of 'Y' in list answers."
   ]
  },
  {
   "cell_type": "markdown",
   "metadata": {},
   "source": [
    "(b) Assign to variable numNo the number of occurrences of 'N' in list answers."
   ]
  },
  {
   "cell_type": "markdown",
   "metadata": {},
   "source": [
    "(c) Assign to variable percentYes the percentage of strings in answers that are 'Y'."
   ]
  },
  {
   "cell_type": "markdown",
   "metadata": {},
   "source": [
    "(d) Sort the list answers."
   ]
  },
  {
   "cell_type": "markdown",
   "metadata": {},
   "source": [
    "(e) Assign to variable f the index of the first occurrence of 'Y' in sorted list answers."
   ]
  },
  {
   "cell_type": "markdown",
   "metadata": {},
   "source": [
    "Q.16"
   ]
  },
  {
   "cell_type": "markdown",
   "metadata": {},
   "source": [
    "Write an expression involving a three-letter string s that evaluates to a string whose\n",
    "characters are the characters of s in reverse order. If s is 'top', the expression should\n",
    "evaluate to 'pot'."
   ]
  },
  {
   "cell_type": "markdown",
   "metadata": {},
   "source": [
    "Q.17"
   ]
  },
  {
   "cell_type": "markdown",
   "metadata": {},
   "source": [
    "Write an expression involving strings s and t containing the last name and the first\n",
    "\n",
    "name, respectively, of a person that evaluates to the person’s initials. If the two strings con-\n",
    "tained the first and last name of this book’s author, the expression would evaluate to 'LP'."
   ]
  },
  {
   "cell_type": "code",
   "execution_count": 2,
   "metadata": {
    "execution": {
     "iopub.execute_input": "2021-09-04T15:50:06.652634Z",
     "iopub.status.busy": "2021-09-04T15:50:06.652021Z",
     "iopub.status.idle": "2021-09-04T15:50:06.658113Z",
     "shell.execute_reply": "2021-09-04T15:50:06.657434Z",
     "shell.execute_reply.started": "2021-09-04T15:50:06.652599Z"
    }
   },
   "outputs": [],
   "source": [
    "first_name = 'Krishnan'\n",
    "last_name = 'Arya'"
   ]
  },
  {
   "cell_type": "markdown",
   "metadata": {},
   "source": [
    "Q.18"
   ]
  },
  {
   "cell_type": "markdown",
   "metadata": {},
   "source": [
    "Start by assigning to variables monthsL and monthsT a list and a tuple, respectively,\n",
    "both containing strings 'Jan', 'Feb', 'Mar', and 'May', in that order. Then attempt the\n",
    "following with both containers:"
   ]
  },
  {
   "cell_type": "markdown",
   "metadata": {},
   "source": [
    "(a) Insert string 'Apr' between 'Mar' and 'May'."
   ]
  },
  {
   "cell_type": "markdown",
   "metadata": {},
   "source": [
    "(b) Append string 'Jun'."
   ]
  },
  {
   "cell_type": "markdown",
   "metadata": {},
   "source": [
    "(c) Pop the container."
   ]
  },
  {
   "cell_type": "markdown",
   "metadata": {},
   "source": [
    "(d) Remove the second item in the container."
   ]
  },
  {
   "cell_type": "markdown",
   "metadata": {},
   "source": [
    "(e) Reverse the order of items in the container."
   ]
  },
  {
   "cell_type": "markdown",
   "metadata": {},
   "source": [
    "(f) Sort the container."
   ]
  },
  {
   "cell_type": "markdown",
   "metadata": {},
   "source": [
    "Q.19"
   ]
  },
  {
   "cell_type": "markdown",
   "metadata": {},
   "source": [
    "Start by assigning to variable grades a list containing an arbitrary sequence of grades\n",
    "(strings) 'A', 'B', 'C', 'D', and 'F'. Then convert it into a tuple"
   ]
  },
  {
   "cell_type": "code",
   "execution_count": 129,
   "metadata": {
    "execution": {
     "iopub.execute_input": "2021-09-04T15:51:16.057343Z",
     "iopub.status.busy": "2021-09-04T15:51:16.056523Z",
     "iopub.status.idle": "2021-09-04T15:51:16.063677Z",
     "shell.execute_reply": "2021-09-04T15:51:16.062327Z",
     "shell.execute_reply.started": "2021-09-04T15:51:16.057278Z"
    }
   },
   "outputs": [],
   "source": [
    "grades = ['B','B','F','C','B','A','A','D','C','D','A','A','B']"
   ]
  },
  {
   "cell_type": "markdown",
   "metadata": {},
   "source": [
    "Q.20"
   ]
  },
  {
   "cell_type": "markdown",
   "metadata": {},
   "source": [
    "Write the relevant Python expression or statement, involving a list of numbers lst\n",
    "and using list operators and methods for these specifications:"
   ]
  },
  {
   "cell_type": "code",
   "execution_count": 143,
   "metadata": {
    "execution": {
     "iopub.execute_input": "2021-09-04T15:51:54.061670Z",
     "iopub.status.busy": "2021-09-04T15:51:54.061314Z",
     "iopub.status.idle": "2021-09-04T15:51:54.066132Z",
     "shell.execute_reply": "2021-09-04T15:51:54.065128Z",
     "shell.execute_reply.started": "2021-09-04T15:51:54.061642Z"
    }
   },
   "outputs": [],
   "source": [
    "Ist = [1,3,5,7,9,11,13]"
   ]
  },
  {
   "cell_type": "markdown",
   "metadata": {},
   "source": [
    "(a) An expression that evaluates to the index of the middle element of lst"
   ]
  },
  {
   "cell_type": "markdown",
   "metadata": {},
   "source": [
    "(c) A statement that sorts the list lst in descending order"
   ]
  },
  {
   "cell_type": "markdown",
   "metadata": {},
   "source": [
    "(d) A statement that removes the first number of list lst and puts it at the end"
   ]
  }
 ],
 "metadata": {
  "kernelspec": {
   "display_name": "Python 3",
   "language": "python",
   "name": "python3"
  },
  "language_info": {
   "codemirror_mode": {
    "name": "ipython",
    "version": 3
   },
   "file_extension": ".py",
   "mimetype": "text/x-python",
   "name": "python",
   "nbconvert_exporter": "python",
   "pygments_lexer": "ipython3",
   "version": "3.8.8"
  }
 },
 "nbformat": 4,
 "nbformat_minor": 4
}
