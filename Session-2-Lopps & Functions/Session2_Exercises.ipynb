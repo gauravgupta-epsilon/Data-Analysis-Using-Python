{
 "cells": [
  {
   "cell_type": "markdown",
   "id": "922deda8",
   "metadata": {},
   "source": [
    "1) Write a program to create a function that takes two arguments, name and age, and print their value."
   ]
  },
  {
   "cell_type": "markdown",
   "id": "c47aa02f",
   "metadata": {},
   "source": [
    "2) Print First 10 natural numbers using while loop"
   ]
  },
  {
   "cell_type": "markdown",
   "id": "982680a0",
   "metadata": {},
   "source": [
    "3) Write a program to print the following number pattern using a loop.\n",
    "\n",
    "1 \n",
    "\n",
    "1 2\n",
    "\n",
    "1 2 3\n",
    "\n",
    "1 2 3 4\n",
    "\n",
    "1 2 3 4 5"
   ]
  },
  {
   "cell_type": "markdown",
   "id": "0edb7d6c",
   "metadata": {},
   "source": [
    "4) Write a function to print multiplication table of a given number (Example -Table of 2)"
   ]
  },
  {
   "cell_type": "markdown",
   "id": "229ff1bd",
   "metadata": {},
   "source": [
    "5) Write a program to display only those numbers from a list that satisfy the following conditions\n",
    "\n",
    "   list = [12, 75, 150, 180, 145, 525, 50]\n",
    "\n",
    "a) The number must be divisible by five\n",
    "\n",
    "b) If the number is greater than 150, then skip it and move to the next number\n",
    "\n",
    "c) If the number is greater than 500, then stop the loop"
   ]
  },
  {
   "cell_type": "markdown",
   "id": "a448a275",
   "metadata": {},
   "source": [
    "6) Write a program to count the total number of digits in a number using a while loop.\n",
    "\n",
    "   num = 75869\n"
   ]
  },
  {
   "cell_type": "markdown",
   "id": "17ecb960",
   "metadata": {},
   "source": [
    "7) Write a program to use for loop to print the following reverse number pattern\n",
    "\n",
    "5 4 3 2 1 \n",
    "\n",
    "4 3 2 1 \n",
    "\n",
    "3 2 1 \n",
    "\n",
    "2 1 \n",
    "\n",
    "1"
   ]
  },
  {
   "cell_type": "markdown",
   "id": "c72eb245",
   "metadata": {},
   "source": [
    "8) Write a function which returns all prime numbers within 1 and 100"
   ]
  },
  {
   "cell_type": "markdown",
   "id": "42ae7748",
   "metadata": {},
   "source": [
    "9) Display Fibonacci series up to 10 terms\n",
    "\n",
    "The Fibonacci Sequence is a series of numbers. The next number is found by adding up the two numbers before it. The first two numbers are 0 and 1.\n",
    "\n",
    "Example - 0, 1, 1, 2, 3, 5, 8, 13, 21. The next number in this series above is 13+21 = 34."
   ]
  },
  {
   "cell_type": "markdown",
   "id": "c3060c50",
   "metadata": {},
   "source": [
    "10) Use a loop to display elements from a given list present at odd index positions\n",
    "\n",
    "Given:\n",
    "\n",
    "my_list = [10, 20, 30, 40, 50, 60, 70, 80, 90, 100]"
   ]
  }
 ],
 "metadata": {
  "kernelspec": {
   "display_name": "Python 3",
   "language": "python",
   "name": "python3"
  },
  "language_info": {
   "codemirror_mode": {
    "name": "ipython",
    "version": 3
   },
   "file_extension": ".py",
   "mimetype": "text/x-python",
   "name": "python",
   "nbconvert_exporter": "python",
   "pygments_lexer": "ipython3",
   "version": "3.8.8"
  }
 },
 "nbformat": 4,
 "nbformat_minor": 5
}
