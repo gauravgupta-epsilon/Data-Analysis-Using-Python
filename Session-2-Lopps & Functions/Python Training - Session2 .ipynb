{
 "cells": [
  {
   "attachments": {
    "image.png": {
     "image/png": "[encoded data removed]"
    }
   },
   "cell_type": "markdown",
   "id": "084e0c8f",
   "metadata": {},
   "source": [
    "# Control Flow Statements \n",
    "The flow control statements are divided into three categories\n",
    "\n",
    "Conditional statements\n",
    "Iterative statements\n",
    "Transfer statements\n",
    "![image.png](attachment:image.png)"
   ]
  },
  {
   "cell_type": "markdown",
   "id": "55552fd5",
   "metadata": {},
   "source": [
    "## Conditional Statements\n",
    "Condition statements act depending on whether a given condition is true or false. You can execute different blocks of codes depending on the outcome of a condition. Condition statements always evaluate to either True or False.\n",
    "\n",
    "There are 4 types of conditional statements.\n",
    "\n",
    "1) if statement\n",
    "\n",
    "2) if-else\n",
    "\n",
    "3) if-elif-else\n",
    "\n",
    "4) nested if-else"
   ]
  },
  {
   "attachments": {
    "image.png": {
     "image/png": "[encoded data removed]"
    }
   },
   "cell_type": "markdown",
   "id": "00916de8",
   "metadata": {},
   "source": [
    "### 1) if statement\n",
    "\n",
    "if condition:\n",
    "     \n",
    "     statement 1\n",
    "     \n",
    "     statement 2\n",
    "     \n",
    "     statement n\n",
    "![image.png](attachment:image.png)"
   ]
  },
  {
   "cell_type": "code",
   "execution_count": 10,
   "id": "b71eb66f",
   "metadata": {},
   "outputs": [
    {
     "name": "stdout",
     "output_type": "stream",
     "text": [
      "36\n",
      "Next lines of code\n"
     ]
    }
   ],
   "source": [
    "number = 6\n",
    "if number > 5:\n",
    "    # Calculate square\n",
    "    print(number * number)\n",
    "print('Next lines of code')"
   ]
  },
  {
   "attachments": {
    "image.png": {
     "image/png": "[encoded data removed]"
    }
   },
   "cell_type": "markdown",
   "id": "6e4d306b",
   "metadata": {},
   "source": [
    "### 2) If-else statement\n",
    "\n",
    "if condition:\n",
    "\n",
    "    statement 1\n",
    "    \n",
    "else:\n",
    "\n",
    "    statement 2\n",
    "![image.png](attachment:image.png)"
   ]
  },
  {
   "cell_type": "code",
   "execution_count": 11,
   "id": "6da0ecb9",
   "metadata": {},
   "outputs": [
    {
     "name": "stdout",
     "output_type": "stream",
     "text": [
      "b is greater than a\n"
     ]
    }
   ],
   "source": [
    "a=2\n",
    "b=4\n",
    "\n",
    "if a >=b :\n",
    "    print(\"a is greater than b\")\n",
    "else:\n",
    "    print(\"b is greater than a\")"
   ]
  },
  {
   "cell_type": "markdown",
   "id": "649bd1b2",
   "metadata": {},
   "source": [
    "### 3) if-elif-else statement\n",
    "\n",
    "if condition-1: \n",
    "\n",
    "     statement 1\n",
    "     \n",
    "elif condition-2:\n",
    "\n",
    "     statement 2\n",
    "     \n",
    "elif condition-3:\n",
    "\n",
    "     stetement 3\n",
    "     \n",
    "     ...         \n",
    "else:            \n",
    "     statement   "
   ]
  },
  {
   "cell_type": "code",
   "execution_count": 13,
   "id": "178ae9b4",
   "metadata": {},
   "outputs": [
    {
     "name": "stdout",
     "output_type": "stream",
     "text": [
      "Guest\n",
      "Wrong entry\n"
     ]
    }
   ],
   "source": [
    "def user_check(choice):\n",
    "    if choice == 1:\n",
    "        print(\"Admin\")\n",
    "    elif choice == 2:\n",
    "        print(\"Editor\")\n",
    "    elif choice == 3:\n",
    "        print(\"Guest\")\n",
    "    else:\n",
    "        print(\"Wrong entry\")\n",
    "\n",
    "user_check(3)\n",
    "user_check(4)"
   ]
  },
  {
   "cell_type": "markdown",
   "id": "9096d243",
   "metadata": {},
   "source": [
    "### 4) Nested if else\n",
    "if conditon_outer:\n",
    "    \n",
    "    if condition_inner:\n",
    "         \n",
    "         statement of inner if\n",
    "    \n",
    "    else:\n",
    "    \n",
    "        statement of inner else:\n",
    "        \n",
    "    statement of outer if\n",
    "    \n",
    "else:\n",
    "\n",
    "    Outer else\n",
    "    \n",
    "statement outside if block"
   ]
  },
  {
   "cell_type": "code",
   "execution_count": 15,
   "id": "f58deecf",
   "metadata": {},
   "outputs": [
    {
     "name": "stdout",
     "output_type": "stream",
     "text": [
      "num1 is smaller than num2\n"
     ]
    }
   ],
   "source": [
    "num1 = 4\n",
    "num2 = 5\n",
    "\n",
    "if num1 >= num2:\n",
    "    if num1 == num2:\n",
    "        print('num1 and num2 are equal')\n",
    "    else:\n",
    "        print('num1 is greater than num2')\n",
    "else:\n",
    "    print('num1 is smaller than num2')"
   ]
  },
  {
   "cell_type": "markdown",
   "id": "bafae7c4",
   "metadata": {},
   "source": [
    "## Loops/Iterative Statements\n",
    "\n",
    "Iterative statements allow us to execute a block of code repeatedly as long as the condition is True."
   ]
  },
  {
   "cell_type": "markdown",
   "id": "75b7ab3e",
   "metadata": {},
   "source": [
    "### 1.While"
   ]
  },
  {
   "attachments": {
    "image-2.png": {
     "image/png": "[encoded data removed]"
    }
   },
   "cell_type": "markdown",
   "id": "ff5b5a07",
   "metadata": {},
   "source": [
    "While loop - we can execute a set of statements as long as a condition is true\n",
    "\n",
    "Syntax - \n",
    "\n",
    "while condition :\n",
    "\n",
    "    body of while loop\n",
    "    \n",
    "![image-2.png](attachment:image-2.png)"
   ]
  },
  {
   "cell_type": "code",
   "execution_count": 1,
   "id": "8137a742",
   "metadata": {},
   "outputs": [
    {
     "name": "stdout",
     "output_type": "stream",
     "text": [
      "1\n",
      "2\n",
      "3\n",
      "4\n",
      "5\n"
     ]
    }
   ],
   "source": [
    "i = 1\n",
    "while i < 6:\n",
    "  print(i)\n",
    "  i += 1"
   ]
  },
  {
   "cell_type": "markdown",
   "id": "aae5b61a",
   "metadata": {},
   "source": [
    "### 2. For Loop"
   ]
  },
  {
   "attachments": {
    "image-2.png": {
     "image/png": "[encoded data removed]"
    }
   },
   "cell_type": "markdown",
   "id": "c86e8b2a",
   "metadata": {},
   "source": [
    "\"for\" loop is used for iterating over a sequence that is either a list, a tuple, a dictionary, a set, or a string\n",
    "\n",
    "Syntax:\n",
    "\n",
    "for element in sequence:\n",
    "\n",
    "     body of for loop  \n",
    "     \n",
    "![image-2.png](attachment:image-2.png)"
   ]
  },
  {
   "cell_type": "code",
   "execution_count": 7,
   "id": "6f7980f3",
   "metadata": {},
   "outputs": [
    {
     "name": "stdout",
     "output_type": "stream",
     "text": [
      "fruits\n",
      "veggies\n",
      "flowers\n"
     ]
    }
   ],
   "source": [
    "#Looping through a list\n",
    "items = [\"fruits\", \"veggies\", \"flowers\"]\n",
    "for x in items:\n",
    "    print(x)"
   ]
  },
  {
   "cell_type": "code",
   "execution_count": 10,
   "id": "740d08fe",
   "metadata": {},
   "outputs": [
    {
     "name": "stdout",
     "output_type": "stream",
     "text": [
      "s\n",
      "a\n",
      "k\n",
      "s\n",
      "h\n",
      "i\n"
     ]
    }
   ],
   "source": [
    "#Looping through a string\n",
    "string = \"sakshi\"\n",
    "for x in string:\n",
    "    print(x)"
   ]
  },
  {
   "cell_type": "code",
   "execution_count": 11,
   "id": "e896e24d",
   "metadata": {},
   "outputs": [
    {
     "name": "stdout",
     "output_type": "stream",
     "text": [
      "0\n",
      "1\n",
      "2\n",
      "3\n",
      "4\n",
      "5\n"
     ]
    }
   ],
   "source": [
    "#Using range function with for loop\n",
    "for x in range(6):\n",
    "    print(x)"
   ]
  },
  {
   "attachments": {
    "image.png": {
     "image/png": "[encoded data removed]"
    }
   },
   "cell_type": "markdown",
   "id": "57cbac5d",
   "metadata": {},
   "source": [
    "### Nested For loop\n",
    "![image.png](attachment:image.png)"
   ]
  },
  {
   "cell_type": "code",
   "execution_count": 13,
   "id": "3b6ef02c",
   "metadata": {},
   "outputs": [
    {
     "name": "stdout",
     "output_type": "stream",
     "text": [
      "red apple\n",
      "red banana\n",
      "red cherry\n",
      "big apple\n",
      "big banana\n",
      "big cherry\n",
      "tasty apple\n",
      "tasty banana\n",
      "tasty cherry\n"
     ]
    }
   ],
   "source": [
    "adj = [\"red\", \"big\", \"tasty\"]\n",
    "fruits = [\"apple\", \"banana\", \"cherry\"]\n",
    "\n",
    "for x in adj:\n",
    "    for y in fruits:\n",
    "        print(x, y)"
   ]
  },
  {
   "cell_type": "markdown",
   "id": "d5085d12",
   "metadata": {},
   "source": [
    " ## Transfer Statements\n",
    " Transfer statements are used to alter the program’s way of execution in a certain manner."
   ]
  },
  {
   "attachments": {
    "image.png": {
     "image/png": "[encoded data removed]"
    }
   },
   "cell_type": "markdown",
   "id": "c192e517",
   "metadata": {},
   "source": [
    "### Break keyword\n",
    "\n",
    " break statement is used inside the loop to exit out of the loop. It is useful when we want to terminate the loop as soon as the condition is fulfilled instead of doing the remaining iterations\n",
    "\n",
    "![image.png](attachment:image.png)"
   ]
  },
  {
   "cell_type": "code",
   "execution_count": 17,
   "id": "5e42f32d",
   "metadata": {},
   "outputs": [
    {
     "name": "stdout",
     "output_type": "stream",
     "text": [
      "0\n",
      "1\n",
      "2\n",
      "3\n",
      "4\n",
      "5\n",
      "stop processing.\n"
     ]
    }
   ],
   "source": [
    "for num in range(10):\n",
    "    if num > 5:\n",
    "        print(\"stop processing.\")\n",
    "        break\n",
    "    print(num)"
   ]
  },
  {
   "attachments": {
    "image-2.png": {
     "image/png": "[encoded data removed]"
    }
   },
   "cell_type": "markdown",
   "id": "7522d8eb",
   "metadata": {},
   "source": [
    "### Continue keyword\n",
    "\n",
    "\"continue\" statement is used to  stop the current iteration, and continue with the next\n",
    "![image-2.png](attachment:image-2.png)"
   ]
  },
  {
   "cell_type": "code",
   "execution_count": 16,
   "id": "deab8f5f",
   "metadata": {},
   "outputs": [
    {
     "name": "stdout",
     "output_type": "stream",
     "text": [
      "3\n",
      "4\n",
      "6\n",
      "7\n"
     ]
    }
   ],
   "source": [
    "for num in range(3, 8):\n",
    "    if num == 5:\n",
    "        continue\n",
    "    else:\n",
    "        print(num)"
   ]
  },
  {
   "attachments": {},
   "cell_type": "markdown",
   "id": "fcc8ed22",
   "metadata": {},
   "source": [
    "### Pass keyword\n",
    "\n",
    "The pass is the keyword In Python, which won’t do anything. Sometimes there is a situation in programming where we need to define a syntactically empty block. We can define that block with the pass keyword"
   ]
  },
  {
   "cell_type": "code",
   "execution_count": 18,
   "id": "3705469b",
   "metadata": {},
   "outputs": [
    {
     "name": "stdout",
     "output_type": "stream",
     "text": [
      "['January', 'June', 'March', 'April']\n"
     ]
    }
   ],
   "source": [
    "months = ['January', 'June', 'March', 'April']\n",
    "for mon in months:\n",
    "    pass\n",
    "print(months)"
   ]
  },
  {
   "cell_type": "markdown",
   "id": "b78997e3",
   "metadata": {},
   "source": [
    "# Functions"
   ]
  },
  {
   "cell_type": "markdown",
   "id": "1e5107af",
   "metadata": {},
   "source": [
    "A function is a block of code which only runs when it is called. You can pass data, known as parameters, into a function. A function can return data as a result.In Python a function is defined using the def keyword.\n",
    "\n",
    "def function_name(parameter1, parameter2):\n",
    "\n",
    "       # function body    \n",
    "       # write some action\n",
    "       \n",
    "return value"
   ]
  },
  {
   "cell_type": "code",
   "execution_count": 14,
   "id": "072b46fc",
   "metadata": {},
   "outputs": [],
   "source": [
    "def temp_func():\n",
    "    print(\"Hello from a function\")"
   ]
  },
  {
   "cell_type": "code",
   "execution_count": 16,
   "id": "082a52f8",
   "metadata": {},
   "outputs": [
    {
     "name": "stdout",
     "output_type": "stream",
     "text": [
      "Hello from a function\n"
     ]
    }
   ],
   "source": [
    "#Calling a function\n",
    "temp_func()"
   ]
  },
  {
   "cell_type": "markdown",
   "id": "bd8e37c8",
   "metadata": {},
   "source": [
    "#### Function returning a value\n",
    "\n",
    "The return value is nothing but a outcome of function.\n",
    "\n",
    "1) The return statement ends the function execution.\n",
    "\n",
    "2) For a function, it is not mandatory to return a value.\n",
    "\n",
    "3) If a return statement is used without any expression, then the None is returned.\n",
    "\n",
    "4) The return statement should be inside of the function block."
   ]
  },
  {
   "cell_type": "code",
   "execution_count": 22,
   "id": "da16eb32",
   "metadata": {},
   "outputs": [],
   "source": [
    "def is_even(list1):\n",
    "    even_num = []\n",
    "    for n in list1:\n",
    "        if n % 2 == 0:\n",
    "            even_num.append(n)\n",
    "    # return a list\n",
    "    return even_num"
   ]
  },
  {
   "cell_type": "code",
   "execution_count": 21,
   "id": "e4f68aba",
   "metadata": {},
   "outputs": [
    {
     "name": "stdout",
     "output_type": "stream",
     "text": [
      "Even numbers are: [2, 42, 62, 70]\n"
     ]
    }
   ],
   "source": [
    "# Pass list to the function\n",
    "even_num = is_even([2, 3, 42, 51, 62, 70, 5, 9])\n",
    "print(\"Even numbers are:\", even_num)"
   ]
  },
  {
   "cell_type": "markdown",
   "id": "28196565",
   "metadata": {},
   "source": [
    "#### Global and local Variable in function\n"
   ]
  },
  {
   "cell_type": "code",
   "execution_count": 24,
   "id": "e990d0c5",
   "metadata": {},
   "outputs": [
    {
     "name": "stdout",
     "output_type": "stream",
     "text": [
      "Value in 1nd function : 900\n",
      "Value in 2nd function : 999\n"
     ]
    }
   ],
   "source": [
    "global_var = 999\n",
    "\n",
    "def function1():\n",
    "    global_var = 900\n",
    "    print(\"Value in 1nd function :\", global_var)\n",
    "\n",
    "def function2():\n",
    "    print(\"Value in 2nd function :\", global_var)\n",
    "\n",
    "function1()\n",
    "function2()"
   ]
  },
  {
   "cell_type": "code",
   "execution_count": 30,
   "id": "eddfac5b",
   "metadata": {},
   "outputs": [
    {
     "name": "stdout",
     "output_type": "stream",
     "text": [
      "Value in 1nd function : 900\n",
      "Value in 2nd function : 900\n"
     ]
    }
   ],
   "source": [
    "global_var = 999\n",
    "\n",
    "def function1():\n",
    "    global global_var\n",
    "    global_var = 900\n",
    "    print(\"Value in 1nd function :\", global_var)\n",
    "\n",
    "def function2():\n",
    "    print(\"Value in 2nd function :\", global_var)\n",
    "\n",
    "function1()\n",
    "function2()"
   ]
  },
  {
   "cell_type": "markdown",
   "id": "407cecfa",
   "metadata": {},
   "source": [
    "## Passing arguments"
   ]
  },
  {
   "cell_type": "markdown",
   "id": "3fe00255",
   "metadata": {},
   "source": [
    "The argument is a value, a variable, or an object that we pass to a function or method call. In Python, there are four types of arguments allowed.\n",
    "\n",
    "1) Positional arguments\n",
    "\n",
    "2) keyword arguments\n",
    "\n",
    "3) Default arguments\n",
    "\n",
    "4) Variable-length arguments"
   ]
  },
  {
   "cell_type": "markdown",
   "id": "12c90e71",
   "metadata": {},
   "source": [
    "#### 1) Positional arguments\n",
    "In the positional argument number and position of arguments must be matched. If we change the order, then the result may change. Also, If we change the number of arguments, then we will get an error."
   ]
  },
  {
   "cell_type": "code",
   "execution_count": 31,
   "id": "d610a287",
   "metadata": {},
   "outputs": [
    {
     "name": "stdout",
     "output_type": "stream",
     "text": [
      "40\n",
      "-40\n"
     ]
    }
   ],
   "source": [
    "def add(a, b):\n",
    "    print(a - b)\n",
    "\n",
    "add(50, 10)\n",
    "add(10, 50)"
   ]
  },
  {
   "cell_type": "markdown",
   "id": "1c92b442",
   "metadata": {},
   "source": [
    "#### 2) Keyword arguments\n",
    "A keyword argument is an argument value, passed to function preceded by the variable name and an equals sign.\n",
    "In keyword arguments order of argument does not matter, but the number of arguments must match. Otherwise, we will get an error."
   ]
  },
  {
   "cell_type": "code",
   "execution_count": 37,
   "id": "ab9ad3d1",
   "metadata": {},
   "outputs": [
    {
     "name": "stdout",
     "output_type": "stream",
     "text": [
      "Hello Sakshi Saxena\n",
      "Hello Saxena Sakshi\n"
     ]
    }
   ],
   "source": [
    "def message(name, surname):\n",
    "    print(\"Hello\", name, surname)\n",
    "\n",
    "message(name=\"Sakshi\", surname=\"Saxena\")\n",
    "message(surname=\"Sakshi\", name=\"Saxena\")"
   ]
  },
  {
   "cell_type": "markdown",
   "id": "3ac8d230",
   "metadata": {},
   "source": [
    "While using keyword and positional argument simultaneously, we need to pass 1st arguments as positional arguments and then keyword arguments. Otherwise, we will get SyntaxError"
   ]
  },
  {
   "cell_type": "code",
   "execution_count": 40,
   "id": "2f2b6a9f",
   "metadata": {},
   "outputs": [
    {
     "name": "stdout",
     "output_type": "stream",
     "text": [
      "Hello..! Sakshi Saxena\n",
      "Hello..! Sakshi Saxena\n"
     ]
    }
   ],
   "source": [
    "def message(first_nm, last_nm):\n",
    "    print(\"Hello..!\", first_nm, last_nm)\n",
    "\n",
    "message(\"Sakshi\", \"Saxena\")\n",
    "message(\"Sakshi\", last_nm=\"Saxena\")"
   ]
  },
  {
   "cell_type": "code",
   "execution_count": 41,
   "id": "810b6485",
   "metadata": {},
   "outputs": [],
   "source": [
    "message(first_nm=\"Sakshi\", \"Saxena\")"
   ]
  },
  {
   "cell_type": "markdown",
   "id": "acdd502d",
   "metadata": {},
   "source": [
    "#### 3) Default arguments\n",
    "Default arguments take the default value during the function call if we do not pass them. We can assign a default value to an argument in function definition using the = assignment operator"
   ]
  },
  {
   "cell_type": "code",
   "execution_count": 42,
   "id": "f746981c",
   "metadata": {},
   "outputs": [
    {
     "name": "stdout",
     "output_type": "stream",
     "text": [
      "Hello John\n",
      "Hello Guest\n"
     ]
    }
   ],
   "source": [
    "# function with default argument\n",
    "def message(name=\"Guest\"):\n",
    "    print(\"Hello\", name)\n",
    "\n",
    "# calling function with argument\n",
    "message(\"John\")\n",
    "\n",
    "# calling function without argument\n",
    "message()"
   ]
  },
  {
   "cell_type": "markdown",
   "id": "182f1bcd",
   "metadata": {},
   "source": [
    "#### 4) Variable length arguments, \\*args, \\**kwargs\n",
    "\n",
    "If you do not know how many arguments that will be passed into your function, add a * for positional arguments and ** from keyword arguments before the parameter name in the function definition."
   ]
  },
  {
   "cell_type": "code",
   "execution_count": 61,
   "id": "c09304c8",
   "metadata": {},
   "outputs": [
    {
     "name": "stdout",
     "output_type": "stream",
     "text": [
      "My favourite fruit are  ('apple', 'mango')\n"
     ]
    }
   ],
   "source": [
    "def temp_func(*fruits):\n",
    "    print(\"My favourite fruit are \",fruits)\n",
    "        \n",
    "        \n",
    "        \n",
    "temp_func(\"apple\",\"mango\")"
   ]
  },
  {
   "cell_type": "code",
   "execution_count": 55,
   "id": "184cba21",
   "metadata": {},
   "outputs": [
    {
     "name": "stdout",
     "output_type": "stream",
     "text": [
      "My favourite fruit are  ('apple', 'mango')\n",
      "My favourite vegetables are  {'veg1': 'spinach', 'veg2': 'potato'}\n"
     ]
    }
   ],
   "source": [
    "def temp_func(*fruits,**veg):\n",
    "        \n",
    "        print(\"My favourite fruit are \",fruits)\n",
    "        print(\"My favourite vegetables are \",veg)\n",
    "        \n",
    "        \n",
    "temp_func(\"apple\",\"mango\",veg1 = \"spinach\", veg2 = \"potato\")"
   ]
  },
  {
   "cell_type": "markdown",
   "id": "9a2fdc23",
   "metadata": {},
   "source": [
    "### Recursion"
   ]
  },
  {
   "cell_type": "code",
   "execution_count": 72,
   "id": "2ba900f1",
   "metadata": {},
   "outputs": [
    {
     "name": "stdout",
     "output_type": "stream",
     "text": [
      "\n",
      "\n",
      "Recursion Example Results\n",
      "1\n",
      "3\n",
      "6\n",
      "10\n",
      "15\n",
      "21\n"
     ]
    },
    {
     "data": {
      "text/plain": [
       "21"
      ]
     },
     "execution_count": 72,
     "metadata": {},
     "output_type": "execute_result"
    }
   ],
   "source": [
    "def tri_recursion(k):\n",
    "    if(k > 0):\n",
    "        #print(k)\n",
    "        result = k + tri_recursion(k - 1)\n",
    "        print(result)\n",
    "    else:\n",
    "        result = 0\n",
    "    return result\n",
    "\n",
    "print(\"\\n\\nRecursion Example Results\")\n",
    "tri_recursion(6)"
   ]
  },
  {
   "cell_type": "markdown",
   "id": "97556fd8",
   "metadata": {},
   "source": [
    "### Lambda Functions\n",
    "\n",
    "Sometimes we need to declare a function without any name. The nameless property function is called an anonymous function or lambda function. A lambda function can take any number of arguments, but can only have one expression."
   ]
  },
  {
   "cell_type": "code",
   "execution_count": 73,
   "id": "b0f0e211",
   "metadata": {},
   "outputs": [
    {
     "name": "stdout",
     "output_type": "stream",
     "text": [
      "15\n"
     ]
    }
   ],
   "source": [
    "x = lambda a : a + 10\n",
    "\n",
    "print(x(5))"
   ]
  },
  {
   "cell_type": "code",
   "execution_count": 74,
   "id": "ca7ce90d",
   "metadata": {},
   "outputs": [
    {
     "name": "stdout",
     "output_type": "stream",
     "text": [
      "30\n"
     ]
    }
   ],
   "source": [
    "x = lambda a, b : a * b\n",
    "print(x(5, 6))"
   ]
  },
  {
   "cell_type": "code",
   "execution_count": 77,
   "id": "cce0cc38",
   "metadata": {},
   "outputs": [
    {
     "name": "stdout",
     "output_type": "stream",
     "text": [
      "13\n"
     ]
    }
   ],
   "source": [
    "x = lambda a, b, c : a + b + c\n",
    "print(x(5, 6, 2))"
   ]
  },
  {
   "cell_type": "code",
   "execution_count": 62,
   "id": "f2bfefff",
   "metadata": {},
   "outputs": [
    {
     "name": "stdout",
     "output_type": "stream",
     "text": [
      "Even numbers are:  [10, 12, 78, 6]\n"
     ]
    }
   ],
   "source": [
    "l = [10, 5, 12, 78, 6, 1, 7, 9]\n",
    "even_nos = list(filter(lambda x: x % 2 == 0, l))\n",
    "print(\"Even numbers are: \", even_nos)"
   ]
  },
  {
   "cell_type": "code",
   "execution_count": 4,
   "id": "fff27e3f",
   "metadata": {},
   "outputs": [
    {
     "data": {
      "text/html": [
       "<div>\n",
       "<style scoped>\n",
       "    .dataframe tbody tr th:only-of-type {\n",
       "        vertical-align: middle;\n",
       "    }\n",
       "\n",
       "    .dataframe tbody tr th {\n",
       "        vertical-align: top;\n",
       "    }\n",
       "\n",
       "    .dataframe thead th {\n",
       "        text-align: right;\n",
       "    }\n",
       "</style>\n",
       "<table border=\"1\" class=\"dataframe\">\n",
       "  <thead>\n",
       "    <tr style=\"text-align: right;\">\n",
       "      <th></th>\n",
       "      <th>Name</th>\n",
       "      <th>Country</th>\n",
       "      <th>Age</th>\n",
       "    </tr>\n",
       "  </thead>\n",
       "  <tbody>\n",
       "    <tr>\n",
       "      <th>0</th>\n",
       "      <td>Tom</td>\n",
       "      <td>Norway</td>\n",
       "      <td>20</td>\n",
       "    </tr>\n",
       "    <tr>\n",
       "      <th>1</th>\n",
       "      <td>nick</td>\n",
       "      <td>India</td>\n",
       "      <td>21</td>\n",
       "    </tr>\n",
       "    <tr>\n",
       "      <th>2</th>\n",
       "      <td>krish</td>\n",
       "      <td>USA</td>\n",
       "      <td>19</td>\n",
       "    </tr>\n",
       "    <tr>\n",
       "      <th>3</th>\n",
       "      <td>jack</td>\n",
       "      <td>Japan</td>\n",
       "      <td>18</td>\n",
       "    </tr>\n",
       "  </tbody>\n",
       "</table>\n",
       "</div>"
      ],
      "text/plain": [
       "    Name Country  Age\n",
       "0    Tom  Norway   20\n",
       "1   nick   India   21\n",
       "2  krish     USA   19\n",
       "3   jack   Japan   18"
      ]
     },
     "execution_count": 4,
     "metadata": {},
     "output_type": "execute_result"
    }
   ],
   "source": [
    "##Creating a dataframe\n",
    "import pandas as pd\n",
    "data = {'Name': ['Tom', 'nick', 'krish', 'jack'],\n",
    "        'Country':['Norway','India','USA','Japan'],\n",
    "        'Age': [20, 21, 19, 18]}\n",
    "\n",
    "# Create DataFrame\n",
    "df = pd.DataFrame(data)\n",
    "df"
   ]
  },
  {
   "cell_type": "code",
   "execution_count": 9,
   "id": "6eec568a",
   "metadata": {},
   "outputs": [
    {
     "data": {
      "text/html": [
       "<div>\n",
       "<style scoped>\n",
       "    .dataframe tbody tr th:only-of-type {\n",
       "        vertical-align: middle;\n",
       "    }\n",
       "\n",
       "    .dataframe tbody tr th {\n",
       "        vertical-align: top;\n",
       "    }\n",
       "\n",
       "    .dataframe thead th {\n",
       "        text-align: right;\n",
       "    }\n",
       "</style>\n",
       "<table border=\"1\" class=\"dataframe\">\n",
       "  <thead>\n",
       "    <tr style=\"text-align: right;\">\n",
       "      <th></th>\n",
       "      <th>Name</th>\n",
       "      <th>Country</th>\n",
       "      <th>Age</th>\n",
       "      <th>New_Age</th>\n",
       "    </tr>\n",
       "  </thead>\n",
       "  <tbody>\n",
       "    <tr>\n",
       "      <th>0</th>\n",
       "      <td>Tom</td>\n",
       "      <td>Norway</td>\n",
       "      <td>20</td>\n",
       "      <td>30</td>\n",
       "    </tr>\n",
       "    <tr>\n",
       "      <th>1</th>\n",
       "      <td>nick</td>\n",
       "      <td>India</td>\n",
       "      <td>21</td>\n",
       "      <td>31</td>\n",
       "    </tr>\n",
       "    <tr>\n",
       "      <th>2</th>\n",
       "      <td>krish</td>\n",
       "      <td>USA</td>\n",
       "      <td>19</td>\n",
       "      <td>29</td>\n",
       "    </tr>\n",
       "    <tr>\n",
       "      <th>3</th>\n",
       "      <td>jack</td>\n",
       "      <td>Japan</td>\n",
       "      <td>18</td>\n",
       "      <td>28</td>\n",
       "    </tr>\n",
       "  </tbody>\n",
       "</table>\n",
       "</div>"
      ],
      "text/plain": [
       "    Name Country  Age  New_Age\n",
       "0    Tom  Norway   20       30\n",
       "1   nick   India   21       31\n",
       "2  krish     USA   19       29\n",
       "3   jack   Japan   18       28"
      ]
     },
     "execution_count": 9,
     "metadata": {},
     "output_type": "execute_result"
    }
   ],
   "source": [
    "#Using lambda function inside apply function\n",
    "#The apply() method allows you to apply a function along one of the axis of the DataFrame, default 0, which is the index (row) axis.\n",
    "\n",
    "def inc_age(age):\n",
    "    return int(int(age)+10)\n",
    "\n",
    "df['New_Age'] = df['Age'].apply(inc_age)\n",
    "\n",
    "df"
   ]
  },
  {
   "cell_type": "code",
   "execution_count": 112,
   "id": "b33826b4",
   "metadata": {},
   "outputs": [
    {
     "data": {
      "text/html": [
       "<div>\n",
       "<style scoped>\n",
       "    .dataframe tbody tr th:only-of-type {\n",
       "        vertical-align: middle;\n",
       "    }\n",
       "\n",
       "    .dataframe tbody tr th {\n",
       "        vertical-align: top;\n",
       "    }\n",
       "\n",
       "    .dataframe thead th {\n",
       "        text-align: right;\n",
       "    }\n",
       "</style>\n",
       "<table border=\"1\" class=\"dataframe\">\n",
       "  <thead>\n",
       "    <tr style=\"text-align: right;\">\n",
       "      <th></th>\n",
       "      <th>Name</th>\n",
       "      <th>Country</th>\n",
       "      <th>Age</th>\n",
       "      <th>New_Age</th>\n",
       "    </tr>\n",
       "  </thead>\n",
       "  <tbody>\n",
       "    <tr>\n",
       "      <th>0</th>\n",
       "      <td>TOM</td>\n",
       "      <td>NORWAY</td>\n",
       "      <td>20</td>\n",
       "      <td>30</td>\n",
       "    </tr>\n",
       "    <tr>\n",
       "      <th>1</th>\n",
       "      <td>NICK</td>\n",
       "      <td>INDIA</td>\n",
       "      <td>21</td>\n",
       "      <td>31</td>\n",
       "    </tr>\n",
       "    <tr>\n",
       "      <th>2</th>\n",
       "      <td>KRISH</td>\n",
       "      <td>USA</td>\n",
       "      <td>19</td>\n",
       "      <td>29</td>\n",
       "    </tr>\n",
       "    <tr>\n",
       "      <th>3</th>\n",
       "      <td>JACK</td>\n",
       "      <td>JAPAN</td>\n",
       "      <td>18</td>\n",
       "      <td>28</td>\n",
       "    </tr>\n",
       "  </tbody>\n",
       "</table>\n",
       "</div>"
      ],
      "text/plain": [
       "    Name Country  Age  New_Age\n",
       "0    TOM  NORWAY   20       30\n",
       "1   NICK   INDIA   21       31\n",
       "2  KRISH     USA   19       29\n",
       "3   JACK   JAPAN   18       28"
      ]
     },
     "execution_count": 112,
     "metadata": {},
     "output_type": "execute_result"
    }
   ],
   "source": [
    "df[['Name','Country']] = df[['Name','Country']].apply(lambda x: x.str.upper(), axis=1)\n",
    "df"
   ]
  }
 ],
 "metadata": {
  "kernelspec": {
   "display_name": "Python 3",
   "language": "python",
   "name": "python3"
  },
  "language_info": {
   "codemirror_mode": {
    "name": "ipython",
    "version": 3
   },
   "file_extension": ".py",
   "mimetype": "text/x-python",
   "name": "python",
   "nbconvert_exporter": "python",
   "pygments_lexer": "ipython3",
   "version": "3.8.8"
  }
 },
 "nbformat": 4,
 "nbformat_minor": 5
}
